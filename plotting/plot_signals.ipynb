{
 "cells": [
  {
   "cell_type": "markdown",
   "id": "331e527b",
   "metadata": {},
   "source": [
    "Notebook for producing Figure 4."
   ]
  },
  {
   "cell_type": "code",
   "execution_count": null,
   "id": "15c8e0a2-0ca5-499b-bf1e-a0c19dd636b1",
   "metadata": {},
   "outputs": [],
   "source": [
    "from bayesbeat.model import GenericAnalyticGaussianBeam\n",
    "from bayesbeat.data import get_data\n",
    "import matplotlib.pyplot as plt\n",
    "from matplotlib.lines import Line2D\n",
    "import numpy as np\n",
    "import pathlib\n",
    "\n",
    "plt.style.use(\"paper.mplstyle\")"
   ]
  },
  {
   "cell_type": "code",
   "execution_count": null,
   "id": "72ef4bd0-4614-426f-a532-7a1197be890f",
   "metadata": {},
   "outputs": [],
   "source": [
    "outdir = pathlib.Path(\"figures\")\n",
    "outdir.mkdir(exist_ok=True)\n",
    "\n",
    "file_format = \"pdf\""
   ]
  },
  {
   "cell_type": "markdown",
   "id": "0b2d6196",
   "metadata": {},
   "source": [
    "Path to the data file"
   ]
  },
  {
   "cell_type": "code",
   "execution_count": null,
   "id": "2afc5577-d3fe-47ac-a722-0bd14fa64ed7",
   "metadata": {},
   "outputs": [],
   "source": [
    "data_file = \"../data/PyTotalAnalysis_2024_02_23.mat\""
   ]
  },
  {
   "cell_type": "markdown",
   "id": "e3424d99",
   "metadata": {},
   "source": [
    "Load one of the ringdowns so we can use the time samples for producing the plot."
   ]
  },
  {
   "cell_type": "code",
   "execution_count": null,
   "id": "b5ca917d-fb24-459d-b5a3-668f8f7be400",
   "metadata": {},
   "outputs": [],
   "source": [
    "index = 0\n",
    "x_data, y_data, frequency, _ = get_data(data_file, index=index)\n",
    "x_data = x_data[:10000]"
   ]
  },
  {
   "cell_type": "markdown",
   "id": "fef28b90",
   "metadata": {},
   "source": [
    "Define the analytic model ($M_3$) with $T={1,3,5,7}$"
   ]
  },
  {
   "cell_type": "code",
   "execution_count": null,
   "id": "e4564712-346f-496c-a4f2-161acdbc97c7",
   "metadata": {},
   "outputs": [],
   "source": [
    "models = []\n",
    "n_terms = [1, 3, 5, 7]\n",
    "t = np.linspace(0, 5e2, int(1e4))\n",
    "for n in n_terms:\n",
    "    model = GenericAnalyticGaussianBeam(\n",
    "        t,\n",
    "        None,\n",
    "        photodiode_gap=0.5e-3,\n",
    "        photodiode_size=10.2e-3,\n",
    "        beam_radius=3.3e-3,\n",
    "        include_gap=True,\n",
    "        equation_name=f\"General_Equation_{n}_Terms\",\n",
    "        n_terms=n,\n",
    "        compile=False,    # Disable compilation since we only call the model once\n",
    "    )\n",
    "    models.append(model)"
   ]
  },
  {
   "cell_type": "markdown",
   "id": "75fab1a8",
   "metadata": {},
   "source": [
    "Define the parameters for the simulated signal and generate the fits for each model"
   ]
  },
  {
   "cell_type": "code",
   "execution_count": null,
   "id": "d0709546-03af-498d-ae0d-443b07761c69",
   "metadata": {},
   "outputs": [],
   "source": [
    "fits = {}\n",
    "theta = dict(\n",
    "    a_1=2e-3,\n",
    "    a_2=1e-3,\n",
    "    a_scale=1.0,\n",
    "    tau_1=55.0,\n",
    "    tau_2=50.0,\n",
    "    domega=0.2,\n",
    "    dphi=np.pi / 4,\n",
    "    x_offset=0.0,\n",
    "    sigma_amp_noise=0.0,\n",
    "    sigma_constant_noise=0.0,\n",
    "    mean_constant_noise=0.0,\n",
    ")\n",
    "for n, model in zip(n_terms, models):\n",
    "    fits[n] = model.signal_model(theta)"
   ]
  },
  {
   "cell_type": "markdown",
   "id": "d406f5c5",
   "metadata": {},
   "source": [
    "Produce fits with smaller amplitudes."
   ]
  },
  {
   "cell_type": "code",
   "execution_count": null,
   "id": "b822cd4a-e258-40e2-8db5-d4ba88cf2f70",
   "metadata": {},
   "outputs": [],
   "source": [
    "fits_1 = {}\n",
    "theta_1 = theta.copy()\n",
    "theta_1[\"a_1\"] *= 0.1\n",
    "theta_1[\"a_2\"] *= 0.1\n",
    "for n, model in zip(n_terms, models):\n",
    "    fits_1[n] = model.signal_model(theta_1)"
   ]
  },
  {
   "cell_type": "markdown",
   "id": "c9403e36",
   "metadata": {},
   "source": [
    "Produce the figure"
   ]
  },
  {
   "cell_type": "code",
   "execution_count": null,
   "id": "de4bd3e6-dd37-4065-87e5-928e1bbc2204",
   "metadata": {},
   "outputs": [],
   "source": [
    "figsize = plt.rcParams[\"figure.figsize\"].copy()\n",
    "figsize[0] *= 1.8\n",
    "figsize[1] *= 1.5\n",
    "\n",
    "ls = [\"-\", \"--\", \"-.\", \":\",]\n",
    "\n",
    "fig, axs = plt.subplots(2, 2, figsize=figsize, sharex=True, sharey=False)\n",
    "\n",
    "for i, (key, y_fit) in enumerate(fits.items()):\n",
    "    axs[0, 0].plot(t, y_fit, label=key, ls=ls[i])\n",
    "    # axs[1, 0].plot(t, y_fit / fits[1])\n",
    "    if key == 1:\n",
    "        continue\n",
    "    axs[1, 0].plot(t, np.abs(y_fit / fits[1]), color=f\"C{i}\", ls=ls[i])\n",
    "\n",
    "for i, (key, y_fit) in enumerate(fits_1.items()):\n",
    "    axs[0, 1].plot(t, y_fit, label=key, color=f\"C{i}\", ls=ls[i])\n",
    "    if key == 1:\n",
    "        continue\n",
    "    axs[1, 1].plot(t, np.abs( y_fit / fits_1[1]), color=f\"C{i}\", ls=ls[i])\n",
    "\n",
    "\n",
    "for ax in axs.flatten():\n",
    "    # ax.set_xscale(\"log\")\n",
    "    ax.set_xlim(0, 300)\n",
    "    pass\n",
    "\n",
    "# axs[0, 0].set_yscale(\"log\")\n",
    "# axs[0, 1].set_yscale(\"log\")\n",
    "\n",
    "# Adjust the y-limits\n",
    "axs[0, 0].set_ylim(0, 1)  \n",
    "axs[0, 1].set_ylim(0, 0.1)  \n",
    "axs[1, 0].set_ylim(axs[1, 0].get_ylim()[0], 1)\n",
    "axs[1, 1].set_ylim(axs[1, 1].get_ylim()[0], 0.99)\n",
    "\n",
    "# Add the axis labels\n",
    "axs[1, 0].set_xlabel(\"$t$ [s]\")\n",
    "axs[1, 1].set_xlabel(\"$t$ [s]\")\n",
    "axs[0, 0].set_ylabel(\"$A$\")\n",
    "axs[0, 1].set_ylabel(\"$A$\")\n",
    "axs[1, 0].set_ylabel(\"$A / A_{T=1}$\")\n",
    "axs[1, 1].set_ylabel(\"$A / A_{T=1}$\")\n",
    "\n",
    "axs[0, 0].set_title(r\"$A_1 = A_2 = 10^{-4}$\")\n",
    "axs[0, 1].set_title(r\"$A_1 = A_2 = 10^{-3}$\")\n",
    "\n",
    "handles, labels = axs[0, 0].get_legend_handles_labels()\n",
    "fig.legend(handles, labels, ncol=4, title=r\"Number of terms ($T$)\", loc=\"center\", bbox_to_anchor=(0.5, 0.05))\n",
    "\n",
    "plt.tight_layout()\n",
    "fig.savefig(outdir / f\"example_model_3.{file_format}\")"
   ]
  },
  {
   "cell_type": "code",
   "execution_count": null,
   "id": "899d305e-6001-4b02-9306-f2ec707b96c7",
   "metadata": {},
   "outputs": [],
   "source": []
  },
  {
   "cell_type": "code",
   "execution_count": null,
   "id": "903a5688-fac7-4787-9c74-1c4f1975890e",
   "metadata": {},
   "outputs": [],
   "source": []
  }
 ],
 "metadata": {
  "kernelspec": {
   "display_name": "bayes-beat",
   "language": "python",
   "name": "python3"
  },
  "language_info": {
   "codemirror_mode": {
    "name": "ipython",
    "version": 3
   },
   "file_extension": ".py",
   "mimetype": "text/x-python",
   "name": "python",
   "nbconvert_exporter": "python",
   "pygments_lexer": "ipython3",
   "version": "3.12.4"
  }
 },
 "nbformat": 4,
 "nbformat_minor": 5
}
