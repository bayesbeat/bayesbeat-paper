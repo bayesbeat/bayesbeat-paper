{
 "cells": [
  {
   "cell_type": "code",
   "execution_count": null,
   "id": "70f38293-f1d4-4a8d-87c7-9f7c0774fd0a",
   "metadata": {},
   "outputs": [],
   "source": [
    "from bayesbeat.result import get_fit\n",
    "from bayesbeat.data import get_data, get_n_entries\n",
    "import h5py\n",
    "import matplotlib.pyplot as plt\n",
    "from matplotlib.lines import Line2D\n",
    "import numpy as np\n",
    "import pathlib\n",
    "\n",
    "from utils import (\n",
    "    get_duration,\n",
    "    add_log10_bayes_factor_colorbar,\n",
    "    get_bayes_factor_markers,\n",
    "    get_frequency,\n",
    ")\n",
    "\n",
    "plt.style.use(\"paper.mplstyle\")"
   ]
  },
  {
   "cell_type": "code",
   "execution_count": null,
   "id": "1b49620e-7dc2-4c5e-b0c0-b72f025c0f42",
   "metadata": {},
   "outputs": [],
   "source": [
    "outdir = pathlib.Path(\"figures\")\n",
    "outdir.mkdir(exist_ok=True)\n",
    "\n",
    "file_format = \"pdf\""
   ]
  },
  {
   "cell_type": "markdown",
   "id": "4b72508f-e943-4b10-a3c1-428071eb6e8f",
   "metadata": {},
   "source": [
    "Path to the data file"
   ]
  },
  {
   "cell_type": "code",
   "execution_count": null,
   "id": "cf54e5c2-b2a9-4603-863b-3c3a1b2aa261",
   "metadata": {},
   "outputs": [],
   "source": [
    "data_file = \"../data/PyTotalAnalysis_2024_02_23.mat\"\n",
    "n_ringdowns = get_n_entries(data_file)"
   ]
  },
  {
   "cell_type": "code",
   "execution_count": null,
   "id": "ec4c89f6-fb09-4947-be21-e46c0a2c5a0c",
   "metadata": {},
   "outputs": [],
   "source": [
    "paths = {\n",
    "    \"simple_model_constant_noise\": pathlib.Path(\"../analysis/rundir/simple_model_constant_noise_fix/\"),\n",
    "    \"simple_model_amp_noise\": pathlib.Path(\"../analysis/rundir/simple_model_both_noise_sources_fix/\"),\n",
    "    \"terms_1\": pathlib.Path(\"../analysis/rundir/analytic_model_1_term_both_noise_sources/\"),\n",
    "    \"terms_3\": pathlib.Path(\"../analysis/rundir/analytic_model_3_terms_both_noise_sources/\"),\n",
    "    \"terms_5\": pathlib.Path(\"../analysis/rundir/analytic_model_5_terms_both_noise_sources/\"),\n",
    "    \"terms_7\": pathlib.Path(\"../analysis/rundir/analytic_model_7_terms_both_noise_sources/\"),\n",
    "    \"terms_1_no_gap\": pathlib.Path(\"../analysis/rundir/analytic_model_1_term_both_noise_sources_no_gap/\"), \n",
    "    \"terms_3_no_gap\": pathlib.Path(\"../analysis/rundir/analytic_model_3_terms_both_noise_sources_no_gap/\"),\n",
    "    \"terms_5_no_gap\": pathlib.Path(\"../analysis/rundir/analytic_model_5_terms_both_noise_sources_no_gap/\"),\n",
    "    \"terms_7_no_gap\": pathlib.Path(\"../analysis/rundir/analytic_model_7_terms_both_noise_sources_no_gap/\"),\n",
    "}"
   ]
  },
  {
   "cell_type": "code",
   "execution_count": null,
   "id": "ace63183-90cb-4432-8066-78660b24a8fd",
   "metadata": {},
   "outputs": [],
   "source": [
    "nevals = {}\n",
    "times = {}\n",
    "for key, path in paths.items():\n",
    "    nevals[key] = np.empty(n_ringdowns)\n",
    "    times[key] = np.empty(n_ringdowns)\n",
    "    for index in range(n_ringdowns):\n",
    "        result_file=path / \"analysis\" / f\"index_{index}\" / \"result.hdf5\"\n",
    "        with h5py.File(result_file, \"r\") as res_file:\n",
    "            nevals[key][index] = res_file[\"total_likelihood_evaluations\"][()]\n",
    "            times[key][index] = res_file[\"sampling_time\"][()]"
   ]
  },
  {
   "cell_type": "code",
   "execution_count": null,
   "id": "c56e4e8d-ca1f-4fe0-a222-d923eacc9461",
   "metadata": {},
   "outputs": [],
   "source": [
    "parameters = {}\n",
    "for key, path in paths.items():\n",
    "    d = dict(\n",
    "        a_1=np.nan * np.empty(n_ringdowns),\n",
    "        a_ratio=np.nan * np.empty(n_ringdowns),\n",
    "        a_scale=np.nan * np.empty(n_ringdowns),\n",
    "    )\n",
    "    for index in range(n_ringdowns):\n",
    "        result_file = path / \"analysis\" / f\"index_{index}\" / \"result.hdf5\"\n",
    "        try:\n",
    "            with h5py.File(result_file, \"r\") as res_file:\n",
    "                posterior_samples = res_file[\"posterior_samples\"][()]\n",
    "            max_logl_idx = np.argmax(posterior_samples[\"logL\"])\n",
    "            for p in posterior_samples.dtype.names:\n",
    "                if p not in d:\n",
    "                    d[p] = np.empty(n_ringdowns)\n",
    "                d[p][index] = posterior_samples[p][max_logl_idx]\n",
    "        except FileNotFoundError:\n",
    "            pass\n",
    "    parameters[key] = d"
   ]
  },
  {
   "cell_type": "code",
   "execution_count": null,
   "id": "8a99845c-8024-463b-84d7-027cb9d75bb5",
   "metadata": {},
   "outputs": [],
   "source": [
    "log_z = {}\n",
    "for key, path in paths.items():\n",
    "    log_z[key] = np.empty(n_ringdowns)\n",
    "    for index in range(n_ringdowns):\n",
    "        result_file=path / \"analysis\" / f\"index_{index}\" / \"result.hdf5\"\n",
    "        try:\n",
    "            with h5py.File(result_file, \"r\") as res_file:\n",
    "                log_z[key][index] = res_file[\"log_evidence\"][()]\n",
    "        except OSError:\n",
    "            log_z[key][index] = np.nan"
   ]
  },
  {
   "cell_type": "code",
   "execution_count": null,
   "id": "c401f9ff-5cc0-4d56-a450-3d0af7d5dda3",
   "metadata": {},
   "outputs": [],
   "source": [
    "freqs = np.empty(n_ringdowns)\n",
    "for index in range(n_ringdowns):\n",
    "    freqs[index] = get_frequency(data_file, index)"
   ]
  },
  {
   "cell_type": "code",
   "execution_count": null,
   "id": "822f1b75-dd48-44c1-a472-122af2e0d4d4",
   "metadata": {},
   "outputs": [],
   "source": [
    "markers = {\n",
    "    \"simple_model_constant_noise\": \"o\",\n",
    "    \"simple_model_amp_noise\": \"o\",\n",
    "    \"terms_1\": \"s\",\n",
    "    \"terms_3\": \"s\",\n",
    "    \"terms_5\": \"s\",\n",
    "    \"terms_7\": \"s\",\n",
    "    \"terms_1_no_gap\": \"^\", \n",
    "    \"terms_3_no_gap\": \"^\",\n",
    "    \"terms_5_no_gap\": \"^\",\n",
    "    \"terms_7_no_gap\": \"^\",\n",
    "}\n",
    "colours = {\n",
    "    \"simple_model_constant_noise\": \"k\",\n",
    "    \"simple_model_amp_noise\": \"grey\",\n",
    "    \"terms_1\": \"C0\",\n",
    "    \"terms_3\": \"C1\",\n",
    "    \"terms_5\": \"C2\",\n",
    "    \"terms_7\": \"C3\",\n",
    "    \"terms_1_no_gap\": \"C0\", \n",
    "    \"terms_3_no_gap\": \"C1\",\n",
    "    \"terms_5_no_gap\": \"C2\",\n",
    "    \"terms_7_no_gap\": \"C3\",\n",
    "}"
   ]
  },
  {
   "cell_type": "code",
   "execution_count": null,
   "id": "59c83526-13c9-47e8-875f-c64414d8b9d8",
   "metadata": {},
   "outputs": [],
   "source": [
    "labels = {\n",
    "    \"simple_model_constant_noise\": r\"$M_1$, $\\xi_2=0$\",\n",
    "    \"simple_model_amp_noise\": r\"$M_1$, $\\xi_2 \\in [0, 1]$\",\n",
    "    \"terms_1\": r\"$M_3$, $T=1$\",\n",
    "    \"terms_3\": r\"$M_3$, $T=3$\",\n",
    "    \"terms_5\": r\"$M_3$, $T=5$\",\n",
    "    \"terms_7\": r\"$M_3$, $T=7$\",\n",
    "    \"terms_1_no_gap\": r\"$M_3$, $T=1$, NG\", \n",
    "    \"terms_3_no_gap\": r\"$M_3$, $T=3$, NG\",\n",
    "    \"terms_5_no_gap\": r\"$M_3$, $T=5$, NG\",\n",
    "    \"terms_7_no_gap\": r\"$M_3$, $T=7$, NG\",\n",
    "}"
   ]
  },
  {
   "cell_type": "code",
   "execution_count": null,
   "id": "4bae03ab-62f4-444a-a36a-017b168553b4",
   "metadata": {},
   "outputs": [],
   "source": [
    "fig, axs = plt.subplots()\n",
    "for (key, evals), ts in zip(nevals.items(), times.values()):\n",
    "    scatter = axs.scatter(parameters[key][\"a_1\"], parameters[key][\"a_ratio\"] * parameters[key][\"a_1\"], label=key, marker=markers[key], s=20, c= np.log10(evals))\n",
    "plt.colorbar(scatter, ax=axs, label=\"Evals\")\n",
    "axs.set_xscale(\"log\")\n",
    "axs.set_yscale(\"log\")\n",
    "axs.set_xlabel(\"Wall time [mins]\")\n",
    "axs.set_ylabel(\"# likelihood evaluations\")\n",
    "plt.show()"
   ]
  },
  {
   "cell_type": "code",
   "execution_count": null,
   "id": "23f5c336-e867-418a-9b7c-2748a6971f3b",
   "metadata": {},
   "outputs": [],
   "source": [
    "figsize = plt.rcParams[\"figure.figsize\"].copy()\n",
    "figsize[1] *= 1.2\n",
    "fig, axs = plt.subplots(figsize=figsize)\n",
    "for (key, evals), ts in zip(nevals.items(), times.values()):\n",
    "    plt.scatter(ts / 60, evals, label=labels[key], marker=markers[key], s=20, color=colours[key])\n",
    "axs.set_xscale(\"log\")\n",
    "fig.legend(loc=\"center\", bbox_to_anchor=(1.12, 0.55))\n",
    "# axs.set_yscale(\"log\")\n",
    "axs.set_xlabel(\"Wall time [mins]\")\n",
    "axs.set_ylabel(\"# likelihood evaluations\")\n",
    "plt.tight_layout()\n",
    "fig.savefig(outdir / f\"cost.{file_format}\")\n",
    "plt.show()"
   ]
  },
  {
   "cell_type": "code",
   "execution_count": null,
   "id": "aeaf8da2-451b-4c4b-95e3-da3000f69a33",
   "metadata": {},
   "outputs": [],
   "source": []
  },
  {
   "cell_type": "code",
   "execution_count": null,
   "id": "e1093eb2-066e-44d5-9cb6-833abfde947f",
   "metadata": {},
   "outputs": [],
   "source": []
  }
 ],
 "metadata": {
  "kernelspec": {
   "display_name": "BayesBeat",
   "language": "python",
   "name": "bayes-beat"
  },
  "language_info": {
   "codemirror_mode": {
    "name": "ipython",
    "version": 3
   },
   "file_extension": ".py",
   "mimetype": "text/x-python",
   "name": "python",
   "nbconvert_exporter": "python",
   "pygments_lexer": "ipython3",
   "version": "3.12.4"
  }
 },
 "nbformat": 4,
 "nbformat_minor": 5
}
