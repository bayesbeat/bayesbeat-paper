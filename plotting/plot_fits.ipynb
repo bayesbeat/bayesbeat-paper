{
 "cells": [
  {
   "cell_type": "markdown",
   "id": "56b6457e-fea7-4919-987a-9fd3a9d64c6e",
   "metadata": {},
   "source": [
    "Notebook for plotting fits and residuals"
   ]
  },
  {
   "cell_type": "code",
   "execution_count": null,
   "id": "8282737b-6c9c-4175-ba1c-d798457923dc",
   "metadata": {},
   "outputs": [],
   "source": [
    "from bayesbeat.result import get_fit\n",
    "from bayesbeat.data import get_data, get_n_entries\n",
    "import h5py\n",
    "import matplotlib.pyplot as plt\n",
    "from matplotlib.lines import Line2D\n",
    "import numpy as np\n",
    "import pathlib\n",
    "from scipy import stats\n",
    "\n",
    "from utils import (\n",
    "    get_duration,\n",
    "    get_frequency,\n",
    "    compute_residuals,\n",
    ")\n",
    "\n",
    "plt.style.use(\"paper.mplstyle\")"
   ]
  },
  {
   "cell_type": "code",
   "execution_count": null,
   "id": "71955b03-f53a-4ed5-950a-5c02a120baa0",
   "metadata": {},
   "outputs": [],
   "source": [
    "outdir = pathlib.Path(\"figures\")\n",
    "outdir.mkdir(exist_ok=True)\n",
    "\n",
    "file_format = \"pdf\""
   ]
  },
  {
   "cell_type": "markdown",
   "id": "50c154d0-9b8f-4063-87c7-4cb899d5e8a5",
   "metadata": {},
   "source": [
    "Path to the data file"
   ]
  },
  {
   "cell_type": "code",
   "execution_count": null,
   "id": "5f26e87d-2b46-4774-b41f-fe1688928db8",
   "metadata": {},
   "outputs": [],
   "source": [
    "data_file = \"../data/PyTotalAnalysis_2024_02_23.mat\"\n",
    "n_ringdowns = get_n_entries(data_file)"
   ]
  },
  {
   "cell_type": "code",
   "execution_count": null,
   "id": "d78afa2e-4b1f-403b-9e17-45ca486ee324",
   "metadata": {},
   "outputs": [],
   "source": [
    "paths = {\n",
    "    \"simple_model_constant_noise\": pathlib.Path(\"../analysis/gens_data/rundir/simple_model_constant_noise_fix/\"),\n",
    "    \"simple_model_amp_noise\": pathlib.Path(\"../analysis/gens_data/rundir/simple_model_both_noise_sources_fix/\"),\n",
    "    # \"simple_model_amp_noise_a_scale\": pathlib.Path(\"../analysis/rundir/simple_model_both_noise_sources_a_scale/\"),\n",
    "    \"terms_1\": pathlib.Path(\"../analysis/gens_data/rundir/analytic_model_1_term_both_noise_sources/\"),\n",
    "    \"terms_3\": pathlib.Path(\"../analysis/gens_data/rundir/analytic_model_3_terms_both_noise_sources/\"),\n",
    "    \"terms_5\": pathlib.Path(\"../analysis/gens_data/rundir/analytic_model_5_terms_both_noise_sources/\"),\n",
    "    # \"terms_7\": pathlib.Path(\"../analysis/gens_data/rundir/analytic_model_7_terms_both_noise_sources/\"),\n",
    "    \"terms_7\": pathlib.Path(\"../analysis/gens_data/rundir/analytic_model_7_terms_both_noise_sources_domega/\"),\n",
    "    # \"terms_1_no_gap\": pathlib.Path(\"../tmp_results/runs/outdir_compute_coeffs_constant_noise_1_terms_mcmc_no_gap_subset\"),\n",
    "    # \"terms_3_no_gap\": pathlib.Path(\"../tmp_results/runs/outdir_compute_coeffs_constant_noise_3_terms_mcmc_no_gap_subset\"),\n",
    "    # \"terms_5_no_gap\": pathlib.Path(\"../tmp_results/runs/outdir_compute_coeffs_constant_noise_5_terms_mcmc_no_gap_subset\"),\n",
    "    # \"terms_7_no_gap\": pathlib.Path(\"../tmp_results/runs/outdir_compute_coeffs_constant_noise_7_terms_mcmc_no_gap_subset\"),\n",
    "}"
   ]
  },
  {
   "cell_type": "code",
   "execution_count": null,
   "id": "89007767-0fe6-48de-bdf9-9454905380e1",
   "metadata": {},
   "outputs": [],
   "source": [
    "index = 44\n",
    "x_data, y_data, frequency, _ = get_data(data_file, index=index)"
   ]
  },
  {
   "cell_type": "code",
   "execution_count": null,
   "id": "04b88bd4-9ebc-43f3-bcbb-e907590c5f63",
   "metadata": {},
   "outputs": [],
   "source": [
    "results = {}\n",
    "for key, path in paths.items():\n",
    "    d = dict()\n",
    "    result_file = path / \"analysis\" / f\"index_{index}\" / \"result.hdf5\"\n",
    "    with h5py.File(result_file, \"r\") as res_file:\n",
    "        posterior_samples = res_file[\"posterior_samples\"][()]\n",
    "        d[\"log_z\"] = res_file[\"log_evidence\"][()]\n",
    "    # Get sample with max. log-likelihood\n",
    "    max_logl_idx = np.argmax(posterior_samples[\"logL\"])\n",
    "    # Get noise sigmas\n",
    "    \n",
    "    d[\"sigma_constant\"] = posterior_samples[\"sigma_constant_noise\"][max_logl_idx]\n",
    "    d[\"sigma_amp\"] = (\n",
    "        posterior_samples[\"sigma_amp_noise\"][max_logl_idx]\n",
    "        if \"sigma_amp_noise\" in posterior_samples.dtype.names else 0\n",
    "    )\n",
    "    d[\"y_fit\"] = get_fit(\n",
    "        config_file=next(path.glob(\"*.ini\")),\n",
    "        result_file=result_file,\n",
    "        datafile=data_file,\n",
    "        index=index,\n",
    "        method=\"max\",\n",
    "        # device=\"cpu\",\n",
    "    )\n",
    "    results[key] = d"
   ]
  },
  {
   "cell_type": "code",
   "execution_count": null,
   "id": "06156fc1-99d8-4cd5-bf7c-596ffd580ff4",
   "metadata": {},
   "outputs": [],
   "source": [
    "labels = {\n",
    "    \"simple_model_constant_noise\": r\"$M_1$, $\\xi_2=0$\",\n",
    "    \"simple_model_amp_noise\": r\"$M_1$, $\\xi_2 \\in [0, 1]$\",\n",
    "    \"simple_model_amp_noise_a_scale\": r\"$M_1$, $\\xi_2 \\in [0, 1]$, $\\alpha \\neq 1$\",\n",
    "    \"terms_1\": r\"$M_3$, $T=1$\",\n",
    "    \"terms_3\": r\"$M_3$, $T=3$\",\n",
    "    \"terms_5\": r\"$M_3$, $T=5$\",\n",
    "    \"terms_7\": r\"$M_3$, $T=7$\",\n",
    "}"
   ]
  },
  {
   "cell_type": "code",
   "execution_count": null,
   "id": "d1a24ad7-2719-49ae-95b2-688af79eab3c",
   "metadata": {},
   "outputs": [],
   "source": [
    "for i, (key, res) in enumerate(results.items()):\n",
    "\n",
    "    figsize = plt.rcParams[\"figure.figsize\"].copy()\n",
    "    figsize[0] = 1.8 * figsize[0]\n",
    "    figsize[1] = 1.6 * figsize[1]\n",
    "    fig, axs = plt.subplot_mosaic(\n",
    "        [[\"fit\", \"fit\", \"fit\", \"empty\"], [\"fit\", \"fit\", \"fit\", \"empty\"], [\"res\", \"res\", \"res\", \"dist\"]],\n",
    "        figsize=figsize,\n",
    "    )\n",
    "\n",
    "    axs[\"fit\"].scatter(x_data, y_data, color=\"k\", s=1, lw=0.0, label=\"Data\")\n",
    "\n",
    "    axs[\"fit\"].plot(x_data, res[\"y_fit\"], c=f\"C{i}\", lw=0.5, label=\"Fit\")\n",
    "    axs[\"fit\"].set_yscale(\"log\")\n",
    "    axs[\"fit\"].legend()\n",
    "\n",
    "    axs_zoom = axs[\"fit\"].inset_axes(\n",
    "        [0.05, 0.05, 0.35, 0.5],\n",
    "        xlim=(320, 360),\n",
    "        ylim=(1.5e-3, 4e-3),\n",
    "    )\n",
    "    axs_zoom.scatter(x_data, y_data, color=\"k\", s=1, lw=0.0, label=\"Data\")\n",
    "\n",
    "    axs_zoom.plot(x_data, res[\"y_fit\"], c=f\"C{i}\", lw=0.5, label=\"Fit\")\n",
    "    axs_zoom.set_yscale(\"log\")\n",
    "    axs_zoom.tick_params(axis=\"both\", which=\"both\", labelleft=False, labelbottom=False)\n",
    "    axs[\"fit\"].indicate_inset_zoom(axs_zoom, edgecolor=\"black\")\n",
    "\n",
    "    residuals = compute_residuals(\n",
    "        y_data,\n",
    "        res[\"y_fit\"],\n",
    "        res[\"sigma_constant\"],\n",
    "        res[\"sigma_amp\"],\n",
    "    )\n",
    "    \n",
    "    axs[\"res\"].scatter(x_data, residuals, s=0.5, c=f\"C{i}\", lw=0.0)\n",
    "\n",
    "    axs[\"dist\"].hist(residuals, 32, histtype=\"step\", orientation=\"horizontal\", label=labels.get(key), color=f\"C{i}\", density=True)\n",
    "    r = np.linspace(-5, 5, 1000)\n",
    "    r_pdf = stats.norm.pdf(r)\n",
    "    axs[\"dist\"].plot(r_pdf, r, color=\"k\", zorder=0)\n",
    "\n",
    "    axs[\"empty\"].axis(\"off\")\n",
    "    # axs[\"dist\"].legend()\n",
    "    # axs[\"fit\"].grid()\n",
    "    axs[\"res\"].set_xlabel(\"Time [s]\")\n",
    "    axs[\"fit\"].set_ylabel(\"Amplitude\")\n",
    "    # axs[\"res\"].grid()\n",
    "    axs[\"res\"].set_ylabel(r\"$\\mathcal{R}$\")\n",
    "    axs[\"res\"].sharex(axs[\"fit\"])\n",
    "    axs[\"res\"].sharey(axs[\"dist\"])\n",
    "    axs[\"fit\"].tick_params(labelbottom=False)\n",
    "    axs[\"dist\"].tick_params(labelleft=False)\n",
    "    axs[\"dist\"].set_xlabel(\"Counts\")\n",
    "    # axs[\"dist\"].grid()\n",
    "    # axs[\"res\"].set_xscale(\"log\")\n",
    "    # axs[\"res\"].set_xlim(5e2, 1e3)\n",
    "\n",
    "    axs[\"empty\"].text(0., 0.55, labels[key], fontsize=8)\n",
    "    axs[\"empty\"].text(0., 0.45, r\"$\\log_{10} Z = \" + f\"{res['log_z'] / np.log(10):.1f}\" + r\"$\", fontsize=8)\n",
    "\n",
    "    plt.tight_layout()\n",
    "    fig.savefig(outdir / \"fits\" / f\"{key}_fit_{index}.{file_format}\")\n",
    "    # break\n"
   ]
  },
  {
   "cell_type": "code",
   "execution_count": null,
   "id": "c75fc6f4-6f79-4bdb-9a2c-d1397c55e9f6",
   "metadata": {},
   "outputs": [],
   "source": [
    "res = results[\"terms_5\"]\n",
    "residuals = compute_residuals(\n",
    "        y_data,\n",
    "        res[\"y_fit\"],\n",
    "        res[\"sigma_constant\"],\n",
    "        res[\"sigma_amp\"],\n",
    "    )"
   ]
  },
  {
   "cell_type": "code",
   "execution_count": null,
   "id": "51404f2d-82cc-40fe-8d90-3ee79ce2b36d",
   "metadata": {},
   "outputs": [],
   "source": [
    "noise = np.random.randn(*residuals.shape)\n",
    "rfd = np.fft.rfft(residuals)\n",
    "fbins = np.fft.rfftfreq(len(y_data), x_data[1] - x_data[0])\n",
    "# fbins = np.fft.fftshift(fbins)"
   ]
  },
  {
   "cell_type": "code",
   "execution_count": null,
   "id": "73b0a7e7-d58f-47ff-8f4b-7e708939defe",
   "metadata": {},
   "outputs": [],
   "source": [
    "fig, axs = plt.subplots()\n",
    "axs.plot(fbins, np.abs(rfd) ** 2)\n",
    "\n",
    "# axs.set_xlim(-0.1, 0.1)\n",
    "# axs.set_xscale(\"log\")\n",
    "axs.set_xlabel(\"f [Hz]\")\n",
    "axs.set_ylabel(\"Power\")"
   ]
  },
  {
   "cell_type": "code",
   "execution_count": null,
   "id": "44acc861-6d27-485d-83c9-e63c0901f228",
   "metadata": {},
   "outputs": [],
   "source": [
    "1 / 2e-3"
   ]
  },
  {
   "cell_type": "code",
   "execution_count": null,
   "id": "9bf8b128-50f1-44ca-ae56-fd82b6c284fb",
   "metadata": {},
   "outputs": [],
   "source": []
  }
 ],
 "metadata": {
  "kernelspec": {
   "display_name": "BayesBeat",
   "language": "python",
   "name": "bayes-beat"
  },
  "language_info": {
   "codemirror_mode": {
    "name": "ipython",
    "version": 3
   },
   "file_extension": ".py",
   "mimetype": "text/x-python",
   "name": "python",
   "nbconvert_exporter": "python",
   "pygments_lexer": "ipython3",
   "version": "3.12.4"
  }
 },
 "nbformat": 4,
 "nbformat_minor": 5
}
