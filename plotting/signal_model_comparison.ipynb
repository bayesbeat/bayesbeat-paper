{
 "cells": [
  {
   "cell_type": "code",
   "execution_count": null,
   "id": "1659da5e-37ac-4a8d-9af0-c4837274c9ff",
   "metadata": {},
   "outputs": [],
   "source": [
    "from bayesbeat.result import get_fit\n",
    "from bayesbeat.data import get_data, get_n_entries\n",
    "import h5py\n",
    "import matplotlib.pyplot as plt\n",
    "from matplotlib.lines import Line2D\n",
    "import numpy as np\n",
    "import pathlib\n",
    "\n",
    "from utils import (\n",
    "    get_duration,\n",
    "    add_log10_bayes_factor_colorbar,\n",
    "    get_bayes_factor_markers,\n",
    "    get_frequency,\n",
    ")\n",
    "\n",
    "plt.style.use(\"paper.mplstyle\")"
   ]
  },
  {
   "cell_type": "code",
   "execution_count": null,
   "id": "c76638f9-eab5-4028-88fe-de1506782677",
   "metadata": {},
   "outputs": [],
   "source": [
    "outdir = pathlib.Path(\"figures\")\n",
    "outdir.mkdir(exist_ok=True)\n",
    "\n",
    "file_format = \"pdf\""
   ]
  },
  {
   "cell_type": "markdown",
   "id": "ccfac706-6721-40e0-a549-26ce4bac2abf",
   "metadata": {},
   "source": [
    "Path to the data file"
   ]
  },
  {
   "cell_type": "code",
   "execution_count": null,
   "id": "e3bd9971-2e15-471b-9017-1e95f5bfd604",
   "metadata": {},
   "outputs": [],
   "source": [
    "data_file = \"../data/PyTotalAnalysis_2024_02_23.mat\"\n",
    "n_ringdowns = get_n_entries(data_file)"
   ]
  },
  {
   "cell_type": "code",
   "execution_count": null,
   "id": "ae3930ee-56ef-4b12-9d4a-5d28981e58bb",
   "metadata": {},
   "outputs": [],
   "source": [
    "paths = {\n",
    "    \"simple_model_amp_noise\": pathlib.Path(\"../analysis/gens_data/rundir/simple_model_both_noise_sources_fix/\"),\n",
    "    \"terms_1\": pathlib.Path(\"../analysis/gens_data/rundir/analytic_model_1_term_both_noise_sources/\"),\n",
    "    \"terms_3\": pathlib.Path(\"../analysis/gens_data/rundir/analytic_model_3_terms_both_noise_sources/\"),\n",
    "    \"terms_5\": pathlib.Path(\"../analysis/gens_data/rundir/analytic_model_5_terms_both_noise_sources/\"),\n",
    "    \"terms_7\": pathlib.Path(\"../analysis/gens_data/rundir/analytic_model_7_terms_both_noise_sources/\"),\n",
    "    \"terms_1_no_gap\": pathlib.Path(\"../analysis/gens_data/rundir/analytic_model_1_term_both_noise_sources_no_gap/\"), \n",
    "    \"terms_3_no_gap\": pathlib.Path(\"../analysis/gens_data/rundir/analytic_model_3_terms_both_noise_sources_no_gap/\"),\n",
    "    \"terms_5_no_gap\": pathlib.Path(\"../analysis/gens_data/rundir/analytic_model_5_terms_both_noise_sources_no_gap/\"),\n",
    "    \"terms_7_no_gap\": pathlib.Path(\"../analysis/gens_data/rundir/analytic_model_7_terms_both_noise_sources_no_gap/\"),\n",
    "}"
   ]
  },
  {
   "cell_type": "code",
   "execution_count": null,
   "id": "d95fb2ae-233d-4083-bed6-635874123d9b",
   "metadata": {},
   "outputs": [],
   "source": [
    "log_z = {}\n",
    "for key, path in paths.items():\n",
    "    log_z[key] = np.empty(n_ringdowns)\n",
    "    for index in range(n_ringdowns):\n",
    "        result_file=path / \"analysis\" / f\"index_{index}\" / \"result.hdf5\"\n",
    "        try:\n",
    "            with h5py.File(result_file, \"r\") as res_file:\n",
    "                log_z[key][index] = res_file[\"log_evidence\"][()]\n",
    "        except OSError:\n",
    "            log_z[key][index] = np.nan"
   ]
  },
  {
   "cell_type": "code",
   "execution_count": null,
   "id": "9d694c96-85c9-4ea7-afa8-932ea1f4d01a",
   "metadata": {},
   "outputs": [],
   "source": [
    "parameters = {}\n",
    "for key, path in paths.items():\n",
    "    d = dict(\n",
    "        a_1=np.nan * np.empty(n_ringdowns),\n",
    "        a_ratio=np.nan * np.empty(n_ringdowns),\n",
    "        a_scale=np.nan * np.empty(n_ringdowns),\n",
    "    )\n",
    "    for index in range(n_ringdowns):\n",
    "        result_file = path / \"analysis\" / f\"index_{index}\" / \"result.hdf5\"\n",
    "        try:\n",
    "            with h5py.File(result_file, \"r\") as res_file:\n",
    "                posterior_samples = res_file[\"posterior_samples\"][()]\n",
    "            max_logl_idx = np.argmax(posterior_samples[\"logL\"])\n",
    "            for p in posterior_samples.dtype.names:\n",
    "                if p not in d:\n",
    "                    d[p] = np.empty(n_ringdowns)\n",
    "                d[p][index] = posterior_samples[p][max_logl_idx]\n",
    "        except FileNotFoundError:\n",
    "            pass\n",
    "    parameters[key] = d"
   ]
  },
  {
   "cell_type": "code",
   "execution_count": null,
   "id": "3ea6d17c-5be3-4031-8210-62e905ac6770",
   "metadata": {},
   "outputs": [],
   "source": [
    "durations = np.empty(n_ringdowns)\n",
    "for index in range(n_ringdowns):\n",
    "    durations[index] = get_duration(data_file, index)"
   ]
  },
  {
   "cell_type": "code",
   "execution_count": null,
   "id": "1d4593c9-63f5-4df7-8ab7-79e6a69c1a5f",
   "metadata": {},
   "outputs": [],
   "source": [
    "freqs = np.empty(n_ringdowns)\n",
    "for index in range(n_ringdowns):\n",
    "    freqs[index] = get_frequency(data_file, index)"
   ]
  },
  {
   "cell_type": "markdown",
   "id": "8ee85427-2241-40e6-a3fc-9629a0d93715",
   "metadata": {},
   "source": [
    "## Bayes Factors"
   ]
  },
  {
   "cell_type": "markdown",
   "id": "98419b38-00d2-4ed1-a61f-ae0b0e5938c0",
   "metadata": {},
   "source": [
    "### Comparison to simple model"
   ]
  },
  {
   "cell_type": "code",
   "execution_count": null,
   "id": "624a875c-a639-48ac-8dc9-59518eabb7e2",
   "metadata": {},
   "outputs": [],
   "source": [
    "fig, axs = plt.subplots()\n",
    "\n",
    "model_1 = \"terms_3\"\n",
    "model_2 = \"simple_model_amp_noise\"\n",
    "x_values = (parameters[model_1][\"a_1\"]) #* parameters[\"simple_model_amp_noise\"][\"a_1\"])\n",
    "y_values = parameters[model_1][\"a_ratio\"] * parameters[model_1][\"a_1\"]\n",
    "log10_bf = (log_z[model_1] - log_z[model_2]) / np.log(10)\n",
    "\n",
    "\n",
    "signs = np.sign(log10_bf)\n",
    "cvar = log10_bf#signs * np.log10(np.abs(log10_bf))\n",
    "cvar_max = np.nanmax(log10_bf)#np.round(np.nanmax(np.abs(cvar)))\n",
    "threshold = 10\n",
    "threshold_colour = \"k\"\n",
    "markers = get_bayes_factor_markers(cvar, threshold)\n",
    "\n",
    "for (i, v), marker in zip(enumerate(cvar), markers):\n",
    "    simple_scatter = axs.scatter(\n",
    "        x_values[i],\n",
    "        y_values[i],\n",
    "        s=20,\n",
    "        c=v,\n",
    "        cmap=\"RdYlBu\",\n",
    "        vmin=-cvar_max,\n",
    "        vmax=cvar_max,\n",
    "        marker=marker,\n",
    "        edgecolor=\"k\",\n",
    "        linewidths=0.5,\n",
    "    )\n",
    "\n",
    "# add_log10_bayes_factor_colorbar(simple_scatter, ax=axs)\n",
    "cbar = plt.colorbar(simple_scatter, ax=axs, label=r\"$\\log_{10} \\cal{B}$\", extend=\"both\")\n",
    "cbar.ax.axhline(threshold, c=threshold_colour)\n",
    "cbar.ax.axhline(-threshold, c=threshold_colour)\n",
    "\n",
    "axs.set_xscale(\"log\")\n",
    "axs.set_yscale(\"log\")\n",
    "xlim = axs.get_xlim()\n",
    "ylim = axs.get_ylim()\n",
    "\n",
    "axs.fill_between([1e-7, 2e-3], [1e-7, 2e-3], [2e-3, 2e-3], color=\"lightgrey\", zorder=0)\n",
    "\n",
    "# axs.legend(handles=legend_handles, frameon=True, ncol=3)\n",
    "axs.set_xlabel(r\"$a_1$\")\n",
    "axs.set_ylabel(r\"$a_2$\")\n",
    "axs.set_xlim(xlim)\n",
    "axs.set_ylim(ylim)\n",
    "fig.savefig(outdir / f\"analytic_bf_simple.{file_format}\")"
   ]
  },
  {
   "cell_type": "code",
   "execution_count": null,
   "id": "06bef9b6-82fe-4f21-8ebe-6511019e1c48",
   "metadata": {},
   "outputs": [],
   "source": [
    "fig, axs = plt.subplots()\n",
    "\n",
    "model_1 = \"terms_1\"\n",
    "model_2 = \"simple_model_amp_noise\"\n",
    "x_values = (parameters[model_1][\"a_1\"]) #* parameters[\"simple_model_amp_noise\"][\"a_1\"])\n",
    "y_values = parameters[model_1][\"a_ratio\"] * parameters[model_1][\"a_1\"]\n",
    "log10_bf = (log_z[model_1] - log_z[model_2]) / np.log(10)\n",
    "\n",
    "signs = np.sign(log10_bf)\n",
    "cvar = log10_bf#signs * np.log10(np.abs(log10_bf))\n",
    "cvar_max = np.nanmax(log10_bf)#np.round(np.nanmax(np.abs(cvar)))\n",
    "threshold = 10\n",
    "threshold_colour = \"k\"\n",
    "markers = get_bayes_factor_markers(cvar, threshold)\n",
    "\n",
    "for (i, v), marker in zip(enumerate(cvar), markers):\n",
    "    simple_scatter = axs.scatter(\n",
    "        x_values[i],\n",
    "        y_values[i],\n",
    "        s=20,\n",
    "        c=v,\n",
    "        cmap=\"RdYlBu\",\n",
    "        vmin=-cvar_max,\n",
    "        vmax=cvar_max,\n",
    "        marker=marker,\n",
    "        edgecolor=\"k\",\n",
    "        linewidths=0.5,\n",
    "    )\n",
    "\n",
    "# add_log10_bayes_factor_colorbar(simple_scatter, ax=axs)\n",
    "cbar = plt.colorbar(simple_scatter, ax=axs, label=r\"$\\log_{10} \\cal{B}$\", extend=\"both\")\n",
    "cbar.ax.axhline(threshold, c=threshold_colour)\n",
    "cbar.ax.axhline(-threshold, c=threshold_colour)\n",
    "\n",
    "axs.set_xscale(\"log\")\n",
    "axs.set_yscale(\"log\")\n",
    "xlim = axs.get_xlim()\n",
    "ylim = axs.get_ylim()\n",
    "axs.fill_between([1e-6, 1e-2], [1e-6, 1e-2], [1e-1, 1e-1], color=\"lightgrey\", zorder=0)\n",
    "\n",
    "# axs.legend(handles=legend_handles, frameon=True, ncol=3)\n",
    "axs.set_xlabel(r\"$a_1$\")\n",
    "axs.set_ylabel(r\"$a_2$\")\n",
    "axs.set_xlim(xlim)\n",
    "axs.set_ylim(ylim)\n",
    "axs.set_xlim(0.92e-3)\n",
    "fig.savefig(outdir / f\"analytic_bf_simple_1_term.{file_format}\")"
   ]
  },
  {
   "cell_type": "code",
   "execution_count": null,
   "id": "b6732515-3d81-4b1f-a469-5c40003f19ba",
   "metadata": {},
   "outputs": [],
   "source": [
    "1.1 * 1e-6"
   ]
  },
  {
   "cell_type": "markdown",
   "id": "2128ce27-aa51-4fd3-b55d-a867394b6c56",
   "metadata": {},
   "source": [
    "### Number of terms"
   ]
  },
  {
   "cell_type": "code",
   "execution_count": null,
   "id": "77891e74-014d-485b-8722-e9c64929cc18",
   "metadata": {},
   "outputs": [],
   "source": [
    "baseline = \"terms_1\"\n",
    "include = [\"terms_3\"]"
   ]
  },
  {
   "cell_type": "code",
   "execution_count": null,
   "id": "6348789e-2716-4da3-9963-48b133bd6ca8",
   "metadata": {},
   "outputs": [],
   "source": [
    "labels = {\n",
    "    \"terms_1\" : \"1/5\",\n",
    "    \"terms_3\" : \"3/1\",\n",
    "    \"terms_5\" : \"5/1\",\n",
    "    \"terms_7\" : \"7/1\",\n",
    "}"
   ]
  },
  {
   "cell_type": "code",
   "execution_count": null,
   "id": "8ba9db0a-1316-4418-9710-732244cfe4cb",
   "metadata": {
    "jupyter": {
     "source_hidden": true
    }
   },
   "outputs": [],
   "source": [
    "parameters[model_1].keys()"
   ]
  },
  {
   "cell_type": "code",
   "execution_count": null,
   "id": "e7dc2a18-c6d5-4c74-bcc0-eb25365b488d",
   "metadata": {},
   "outputs": [],
   "source": [
    "pairs = [\n",
    "    (\"terms_3\", \"terms_1\"),\n",
    "    (\"terms_5\", \"terms_3\"),\n",
    "    (\"terms_7\", \"terms_5\"),\n",
    "]\n",
    "labels = [\"3/1\", \"5/3\", \"7/5\"]\n",
    "thresholds = [2, 2, 2]"
   ]
  },
  {
   "cell_type": "code",
   "execution_count": null,
   "id": "d339e09c-8261-4cff-9dee-b7451c1dc143",
   "metadata": {},
   "outputs": [],
   "source": [
    "for (j, (model_1, model_2)), threshold in zip(enumerate(pairs), thresholds):\n",
    "\n",
    "    fig, axs = plt.subplots()\n",
    "    # axs.grid()\n",
    "    x_values = (parameters[model_1][\"a_1\"]) #* parameters[\"simple_model_amp_noise\"][\"a_1\"])\n",
    "    y_values = parameters[model_1][\"a_ratio\"] * parameters[model_1][\"a_1\"]\n",
    "    log10_bf = (log_z[model_1] - log_z[model_2]) / np.log(10)\n",
    "    print(np.where(np.abs(log10_bf) > threshold ))\n",
    "    # threshold = 1\n",
    "    \n",
    "    # log10_bf = (log_z[model_1] - log_z[model_2]) / np.log(10)\n",
    "    signs = np.sign(log10_bf)\n",
    "    cvar = log10_bf#signs * np.log10(np.abs(log10_bf))\n",
    "    cvar_max = np.nanmax(log10_bf)#np.nanmax(np.abs(cvar)))\n",
    "    markers = get_bayes_factor_markers(cvar, threshold=threshold)\n",
    "    \n",
    "    for (i, v), marker in zip(enumerate(cvar), markers):\n",
    "        simple_scatter = axs.scatter(\n",
    "            x_values[i],\n",
    "            y_values[i],\n",
    "            s=20,\n",
    "            c=v,\n",
    "            cmap=\"RdYlBu\",\n",
    "            vmin=-cvar_max,\n",
    "            vmax=cvar_max,\n",
    "            marker=marker,\n",
    "            edgecolor=\"k\",\n",
    "            linewidths=0.5\n",
    "        )\n",
    "        # axs.text(x_values[i], y_values[i], str(i), fontsize=6)\n",
    "    \n",
    "    axs.set_xscale(\"log\")\n",
    "    axs.set_yscale(\"log\")\n",
    "    xlim = axs.get_xlim()\n",
    "    ylim = axs.get_ylim()\n",
    "    \n",
    "    axs.fill_between([1e-7, 1e-2], [1e-7, 1e-2], [1e-2, 1e-2], color=\"lightgrey\", zorder=0)\n",
    "    \n",
    "    cbar = plt.colorbar(simple_scatter, ax=axs, label=r\"$\\log_{10} \\mathcal{B}$\"  , extend=\"both\")\n",
    "    cbar.ax.axhline(threshold, c=threshold_colour)\n",
    "    cbar.ax.axhline(-threshold, c=threshold_colour)\n",
    "    \n",
    "    axs.set_xlabel(r\"$a_1$\")\n",
    "    axs.set_ylabel(r\"$a_2$\")\n",
    "    \n",
    "    axs.set_xlim(xlim)\n",
    "    axs.set_ylim(ylim)\n",
    "    # fig.suptitle(f\"{model_1} - {model_2}\")\n",
    "    plt.tight_layout()\n",
    "    fig.savefig(outdir / f\"analytic_bf_{model_1}_{model_2}.{file_format}\")\n"
   ]
  },
  {
   "cell_type": "markdown",
   "id": "c3f6bc9b-2f46-4f15-b04f-44ce7e705f44",
   "metadata": {},
   "source": [
    "## Without gap"
   ]
  },
  {
   "cell_type": "code",
   "execution_count": null,
   "id": "294d2f9e-0a30-41e4-903d-b5d354d42901",
   "metadata": {},
   "outputs": [],
   "source": [
    "pairs = [\n",
    "    (\"terms_3\", \"terms_3_no_gap\"),\n",
    "    (\"terms_5\", \"terms_5_no_gap\"),\n",
    "    (\"terms_7\", \"terms_7_no_gap\"),\n",
    "]\n",
    "labels = [r\"\\text{G/NG}\", r\"\\text{G/NG}\", r\"\\text{G/NG}\", r\"\\text{G/NG}\"]"
   ]
  },
  {
   "cell_type": "code",
   "execution_count": null,
   "id": "ed669ecb-f26c-4c81-aa31-f59499e88d60",
   "metadata": {},
   "outputs": [],
   "source": [
    "for (j, (model_1, model_2)), threshold in zip(enumerate(pairs), thresholds):\n",
    "\n",
    "    fig, axs = plt.subplots()\n",
    "    # axs.grid()\n",
    "    x_values = (parameters[model_1][\"a_1\"]) #* parameters[\"simple_model_amp_noise\"][\"a_1\"])\n",
    "    y_values = parameters[model_1][\"a_ratio\"] * parameters[model_1][\"a_1\"]\n",
    "    log10_bf = (log_z[model_1] - log_z[model_2]) / np.log(10)\n",
    "    print(log10_bf)\n",
    "    # log10_bf = (log_z[model_1] - log_z[model_2]) / np.log(10)\n",
    "    signs = np.sign(log10_bf)\n",
    "    cvar = log10_bf#signs * np.log10(np.abs(log10_bf))\n",
    "    cvar_max = np.nanmax(log10_bf)#np.nanmax(np.abs(cvar)))\n",
    "    markers = get_bayes_factor_markers(cvar, threshold=threshold)\n",
    "    \n",
    "    for (i, v), marker in zip(enumerate(cvar), markers):\n",
    "        simple_scatter = axs.scatter(\n",
    "            x_values[i],\n",
    "            y_values[i],\n",
    "            s=20,\n",
    "            c=v,\n",
    "            cmap=\"RdYlBu\",\n",
    "            vmin=-cvar_max,\n",
    "            vmax=cvar_max,\n",
    "            marker=\"o\",\n",
    "            edgecolor=\"k\",\n",
    "            linewidths=0.5\n",
    "        )\n",
    "    \n",
    "    axs.set_xscale(\"log\")\n",
    "    axs.set_yscale(\"log\")\n",
    "    xlim = axs.get_xlim()\n",
    "    ylim = axs.get_ylim()\n",
    "    \n",
    "    axs.fill_between([1e-7, 1e-2], [1e-7, 1e-2], [1e-2, 1e-2], color=\"lightgrey\", zorder=0)\n",
    "    \n",
    "    cbar = plt.colorbar(simple_scatter, ax=axs, label=r\"$\\log_{10} \\mathcal{B}_{\" + f\"{labels[j]}\" + r\"}$\"  , extend=\"both\")\n",
    "    # cbar.ax.axhline(threshold, c=threshold_colour)\n",
    "    # cbar.ax.axhline(-threshold, c=threshold_colour)\n",
    "    \n",
    "    axs.set_xlabel(r\"$a_1$\")\n",
    "    axs.set_ylabel(r\"$a_2$\")\n",
    "    \n",
    "    axs.set_xlim(xlim)\n",
    "    axs.set_ylim(ylim)\n",
    "    # fig.suptitle(f\"{model_1} - {model_2}\")\n",
    "    plt.tight_layout()\n",
    "    fig.savefig(outdir / f\"analytic_bf_{model_1}_{model_2}.{file_format}\")\n"
   ]
  },
  {
   "cell_type": "code",
   "execution_count": null,
   "id": "20870415-e581-45f7-a2e8-aae48f881963",
   "metadata": {},
   "outputs": [],
   "source": []
  },
  {
   "cell_type": "code",
   "execution_count": null,
   "id": "b3873e92-33f3-4c29-9012-13cb01112c91",
   "metadata": {},
   "outputs": [],
   "source": []
  }
 ],
 "metadata": {
  "kernelspec": {
   "display_name": "BayesBeat",
   "language": "python",
   "name": "bayes-beat"
  },
  "language_info": {
   "codemirror_mode": {
    "name": "ipython",
    "version": 3
   },
   "file_extension": ".py",
   "mimetype": "text/x-python",
   "name": "python",
   "nbconvert_exporter": "python",
   "pygments_lexer": "ipython3",
   "version": "3.12.4"
  }
 },
 "nbformat": 4,
 "nbformat_minor": 5
}
