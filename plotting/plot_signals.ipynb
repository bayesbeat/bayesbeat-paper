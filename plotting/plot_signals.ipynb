{
 "cells": [
  {
   "cell_type": "code",
   "execution_count": null,
   "id": "15c8e0a2-0ca5-499b-bf1e-a0c19dd636b1",
   "metadata": {},
   "outputs": [],
   "source": [
    "from bayesbeat.result import get_fit\n",
    "from bayesbeat.model import GenericAnalyticGaussianBeam\n",
    "from bayesbeat.data import get_data, get_n_entries\n",
    "import h5py\n",
    "import matplotlib.pyplot as plt\n",
    "from matplotlib.lines import Line2D\n",
    "import numpy as np\n",
    "import pathlib\n",
    "\n",
    "from utils import (\n",
    "    get_duration,\n",
    "    add_log10_bayes_factor_colorbar,\n",
    "    get_bayes_factor_markers,\n",
    "    get_frequency,\n",
    ")\n",
    "\n",
    "plt.style.use(\"paper.mplstyle\")"
   ]
  },
  {
   "cell_type": "code",
   "execution_count": null,
   "id": "72ef4bd0-4614-426f-a532-7a1197be890f",
   "metadata": {},
   "outputs": [],
   "source": [
    "outdir = pathlib.Path(\"figures\")\n",
    "outdir.mkdir(exist_ok=True)\n",
    "\n",
    "file_format = \"pdf\""
   ]
  },
  {
   "cell_type": "code",
   "execution_count": null,
   "id": "2afc5577-d3fe-47ac-a722-0bd14fa64ed7",
   "metadata": {},
   "outputs": [],
   "source": [
    "data_file = \"../data/PyTotalAnalysis_2024_02_23.mat\""
   ]
  },
  {
   "cell_type": "code",
   "execution_count": null,
   "id": "b5ca917d-fb24-459d-b5a3-668f8f7be400",
   "metadata": {},
   "outputs": [],
   "source": [
    "index = 0\n",
    "x_data, y_data, frequency, _ = get_data(data_file, index=index)"
   ]
  },
  {
   "cell_type": "code",
   "execution_count": null,
   "id": "e4564712-346f-496c-a4f2-161acdbc97c7",
   "metadata": {},
   "outputs": [],
   "source": [
    "models = []\n",
    "n_terms = [1, 3, 5, 7]\n",
    "t = np.linspace(0, 1e4, int(1e5))\n",
    "for n in n_terms:\n",
    "    model = GenericAnalyticGaussianBeam(\n",
    "        t,\n",
    "        None,\n",
    "        photodiode_gap=0.5e-3,\n",
    "        photodiode_size=10.2e-3,\n",
    "        beam_radius=3.3e-3,\n",
    "        include_gap=True,\n",
    "        equation_name=f\"General_Equation_{n}_Terms\",\n",
    "        n_terms=n,\n",
    "    )\n",
    "    models.append(model)"
   ]
  },
  {
   "cell_type": "code",
   "execution_count": null,
   "id": "d0709546-03af-498d-ae0d-443b07761c69",
   "metadata": {},
   "outputs": [],
   "source": [
    "fits = {}\n",
    "theta = dict(\n",
    "    a_1=1e-3,\n",
    "    a_2=1e-5,\n",
    "    a_scale=1.0,\n",
    "    tau_1=100.0,\n",
    "    tau_2=100.0,\n",
    "    domega=10,\n",
    "    dphi=6,\n",
    "    x_offset=0.0,\n",
    "    sigma_amp_noise=0.0,\n",
    "    sigma_constant_noise=0.0,\n",
    ")\n",
    "for n, model in zip(n_terms, models):\n",
    "    fits[n] = model.signal_model(theta)"
   ]
  },
  {
   "cell_type": "code",
   "execution_count": null,
   "id": "41e8c759-4794-4d8a-8962-0e3bd24079e1",
   "metadata": {},
   "outputs": [],
   "source": [
    "plt.figure()\n",
    "cutoff = 1000\n",
    "plt.plot(t[:cutoff], fits[3][:cutoff])\n",
    "plt.show()"
   ]
  },
  {
   "cell_type": "code",
   "execution_count": null,
   "id": "b822cd4a-e258-40e2-8db5-d4ba88cf2f70",
   "metadata": {},
   "outputs": [],
   "source": [
    "fits_1 = {}\n",
    "theta_1 = dict(\n",
    "    a_1=1e-4,\n",
    "    a_2=1e-4,\n",
    "    a_scale=1.0,\n",
    "    tau_1=100.0,\n",
    "    tau_2=110.0,\n",
    "    domega=0.5,\n",
    "    dphi=np.pi/4,\n",
    "    x_offset=0.0,\n",
    "    sigma_amp_noise=0.0,\n",
    "    sigma_constant_noise=0.0,\n",
    ")\n",
    "for n, model in zip(n_terms, models):\n",
    "    fits_1[n] = model.signal_model(theta_1)"
   ]
  },
  {
   "cell_type": "code",
   "execution_count": null,
   "id": "91e4b6cc-f3c2-475a-aabd-f4b4a03fa3f2",
   "metadata": {},
   "outputs": [],
   "source": [
    "from mpl_toolkits.axes_grid1.inset_locator import zoomed_inset_axes\n",
    "from mpl_toolkits.axes_grid1.inset_locator import mark_inset"
   ]
  },
  {
   "cell_type": "code",
   "execution_count": null,
   "id": "109bf3fe-2e86-4217-9107-babec725b9ae",
   "metadata": {},
   "outputs": [],
   "source": [
    "import matplotlib as mpl"
   ]
  },
  {
   "cell_type": "code",
   "execution_count": null,
   "id": "de4bd3e6-dd37-4065-87e5-928e1bbc2204",
   "metadata": {},
   "outputs": [],
   "source": [
    "figsize = plt.rcParams[\"figure.figsize\"].copy()\n",
    "figsize[0] *= 1.8\n",
    "figsize[1] *= 1.5\n",
    "\n",
    "ls = [\"-\", \"--\", \"-.\", \":\",]\n",
    "\n",
    "fig, axs = plt.subplots(2, 2, figsize=figsize, sharex=True)\n",
    "\n",
    "for i, (key, y_fit) in enumerate(fits.items()):\n",
    "    axs[0, 0].plot(t, y_fit, label=key, ls=ls[i])\n",
    "    # axs[1, 0].plot(t, y_fit / fits[1])\n",
    "    if key == 1:\n",
    "        continue\n",
    "    axs[1, 0].plot(t, y_fit / fits[1], color=f\"C{i}\", ls=ls[i])\n",
    "\n",
    "for i, (key, y_fit) in enumerate(fits_1.items()):\n",
    "    axs[0, 1].plot(t, y_fit, label=key, color=f\"C{i}\", ls=ls[i])\n",
    "    if key == 1:\n",
    "        continue\n",
    "    axs[1, 1].plot(t, y_fit / fits_1[1], color=f\"C{i}\", ls=ls[i])\n",
    "\n",
    "\n",
    "# axs[0,0].text(0.1, 0.1, r\"$a_1=\" + f\"{theta['a_1']}\" + r\"$\", transform=ax.transAxes, ha=\"center\", va=\"center\")\n",
    "\n",
    "# for key, y_fit in fits_2.items():\n",
    "#     axs[1, 0].plot(t, y_fit, label=key)\n",
    "\n",
    "# for key, y_fit in fits_3.items():\n",
    "#     axs[1, 1].plot(t, y_fit, label=key)\n",
    "\n",
    "\n",
    "for ax in axs.flatten():\n",
    "    # ax.set_xscale(\"log\")\n",
    "    # ax.set_yscale(\"log\")\n",
    "    ax.set_xlim(1e-1, 1e3)\n",
    "    \n",
    "axs[1, 0].set_xlabel(\"$t$ [s]\")\n",
    "axs[1, 1].set_xlabel(\"$t$ [s]\")\n",
    "\n",
    "axs[0, 0].set_ylabel(\"$A$\")\n",
    "axs[0, 1].set_ylabel(\"$A$\")\n",
    "axs[1, 0].set_ylabel(\"$A / A_{T=1}$\")\n",
    "axs[1, 1].set_ylabel(\"$A / A_{T=1}$\")\n",
    "\n",
    "handles, labels = axs[0, 0].get_legend_handles_labels()\n",
    "fig.legend(handles, labels, ncol=4, title=r\"Number of terms ($T$)\", loc=\"center\", bbox_to_anchor=(0.5, 0.05))\n",
    "\n",
    "plt.tight_layout()\n",
    "fig.savefig(outdir / f\"example_model_3_test.{file_format}\")"
   ]
  },
  {
   "cell_type": "code",
   "execution_count": null,
   "id": "899d305e-6001-4b02-9306-f2ec707b96c7",
   "metadata": {},
   "outputs": [],
   "source": []
  }
 ],
 "metadata": {
  "kernelspec": {
   "display_name": "BayesBeat",
   "language": "python",
   "name": "bayes-beat"
  },
  "language_info": {
   "codemirror_mode": {
    "name": "ipython",
    "version": 3
   },
   "file_extension": ".py",
   "mimetype": "text/x-python",
   "name": "python",
   "nbconvert_exporter": "python",
   "pygments_lexer": "ipython3",
   "version": "3.12.4"
  }
 },
 "nbformat": 4,
 "nbformat_minor": 5
}
