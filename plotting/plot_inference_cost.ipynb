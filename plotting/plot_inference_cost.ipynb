{
 "cells": [
  {
   "cell_type": "code",
   "execution_count": null,
   "id": "853480d6",
   "metadata": {},
   "outputs": [],
   "source": [
    "from bayesbeat.data import get_n_entries\n",
    "import h5py\n",
    "import matplotlib.pyplot as plt\n",
    "import numpy as np\n",
    "import pathlib\n",
    "\n",
    "from utils import (\n",
    "    model_colours,\n",
    "    model_labels,\n",
    ")\n",
    "\n",
    "plt.style.use(\"paper.mplstyle\")"
   ]
  },
  {
   "cell_type": "code",
   "execution_count": null,
   "id": "5e6ae6e0",
   "metadata": {},
   "outputs": [],
   "source": [
    "outdir = pathlib.Path(\"figures\")\n",
    "outdir.mkdir(exist_ok=True)\n",
    "\n",
    "file_format = \"pdf\""
   ]
  },
  {
   "cell_type": "markdown",
   "id": "5f6be216",
   "metadata": {},
   "source": [
    "Path to the data file"
   ]
  },
  {
   "cell_type": "code",
   "execution_count": null,
   "id": "76f3cd7b",
   "metadata": {},
   "outputs": [],
   "source": [
    "data_file = \"../data/PyTotalAnalysis_2024_02_23.mat\"\n",
    "n_ringdowns = get_n_entries(data_file)"
   ]
  },
  {
   "cell_type": "code",
   "execution_count": null,
   "id": "7eb32ec6",
   "metadata": {},
   "outputs": [],
   "source": [
    "paths = {\n",
    "    \"model_1_constant_noise\": pathlib.Path(\"../analysis/gens_data/rundir/model_1_constant_noise/\"),\n",
    "    \"model_1\": pathlib.Path(\"../analysis/gens_data/rundir/model_1\"),\n",
    "    \"model_3\": pathlib.Path(\"../analysis/gens_data/rundir/model_3_7_terms/\"),\n",
    "}"
   ]
  },
  {
   "cell_type": "code",
   "execution_count": null,
   "id": "c9859701",
   "metadata": {},
   "outputs": [],
   "source": [
    "nevals = {}\n",
    "times = {}\n",
    "ll_time = {}\n",
    "for key, path in paths.items():\n",
    "    nevals[key] = np.empty(n_ringdowns)\n",
    "    times[key] = np.empty(n_ringdowns)\n",
    "    ll_time[key] = np.empty(n_ringdowns)\n",
    "    for index in range(n_ringdowns):\n",
    "        result_file=path / \"analysis\" / f\"index_{index}\" / \"result.hdf5\"\n",
    "        with h5py.File(result_file, \"r\") as res_file:\n",
    "            nevals[key][index] = res_file[\"total_likelihood_evaluations\"][()]\n",
    "            times[key][index] = res_file[\"sampling_time\"][()]\n",
    "            ll_time[key][index] = res_file[\"likelihood_evaluation_time\"][()]\n"
   ]
  },
  {
   "cell_type": "code",
   "execution_count": null,
   "id": "22d71d48",
   "metadata": {},
   "outputs": [],
   "source": [
    "fig, ax = plt.subplots(1, 1)\n",
    "\n",
    "for key in paths:\n",
    "\n",
    "    ax.hist(\n",
    "        ll_time[key] / times[key],\n",
    "        color=model_colours[key],\n",
    "        bins=10,\n",
    "        histtype=\"step\",\n",
    "        label=model_labels[key],\n",
    "    )\n",
    "\n",
    "ax.set_yticklabels([])\n",
    "ax.set_xlabel(\"Fractional likelihood time\")\n",
    "\n",
    "legend = ax.legend(\n",
    "    frameon=True,\n",
    "    fancybox=False,\n",
    "    edgecolor=\"black\",\n",
    ")\n",
    "legend.get_frame().set_linewidth(0.5)\n",
    "\n",
    "plt.show()\n",
    "fig.savefig(outdir / f\"ll_time_fraction.{file_format}\", dpi=300)\n"
   ]
  },
  {
   "cell_type": "code",
   "execution_count": null,
   "id": "f421e646",
   "metadata": {},
   "outputs": [],
   "source": [
    "fig, ax = plt.subplots(1, 1)\n",
    "\n",
    "markers = {\n",
    "    \"model_1_constant_noise\": \"o\",\n",
    "    \"model_1\": \"s\",\n",
    "    \"model_3\": \"^\",\n",
    "}\n",
    "\n",
    "for key in paths:\n",
    "    ax.scatter(\n",
    "        times[key] / 60,\n",
    "        nevals[key],\n",
    "        marker=markers.get(key),\n",
    "        label=model_labels[key],\n",
    "        color=model_colours[key],\n",
    "        s=10,\n",
    "    )\n",
    "# ax.set_yscale(\"log\")\n",
    "ax.set_xscale(\"log\")\n",
    "\n",
    "ax.set_xlabel(\"Time [minutes]\")\n",
    "ax.set_ylabel(\"Likelihood evaluations\")\n",
    "\n",
    "legend = ax.legend(\n",
    "    frameon=True,\n",
    "    fancybox=False,\n",
    "    edgecolor=\"black\",\n",
    "    loc=\"upper left\",\n",
    "    \n",
    ")\n",
    "legend.get_frame().set_linewidth(0.5)\n",
    "\n",
    "ax.axvline(60, color=\"k\", linestyle=\"--\", lw=0.5)\n",
    "ax.text(60, 1.5e6, \"1 hour\", rotation=90, ha=\"right\", va=\"bottom\", fontsize=8)\n",
    "fig.savefig(\n",
    "    outdir / f\"time_vs_nevals.{file_format}\", dpi=300\n",
    ")\n",
    "plt.show()\n"
   ]
  }
 ],
 "metadata": {
  "kernelspec": {
   "display_name": "bayes-beat",
   "language": "python",
   "name": "python3"
  },
  "language_info": {
   "codemirror_mode": {
    "name": "ipython",
    "version": 3
   },
   "file_extension": ".py",
   "mimetype": "text/x-python",
   "name": "python",
   "nbconvert_exporter": "python",
   "pygments_lexer": "ipython3",
   "version": "3.12.4"
  }
 },
 "nbformat": 4,
 "nbformat_minor": 5
}
