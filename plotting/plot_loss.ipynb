{
 "cells": [
  {
   "cell_type": "markdown",
   "id": "0ba7fad7",
   "metadata": {},
   "source": [
    "# Loss plots\n",
    "\n",
    "This notebook contains code to reproduce figures 12 and 14 "
   ]
  },
  {
   "cell_type": "code",
   "execution_count": null,
   "id": "36222948-776d-4864-b79d-3d41823308b3",
   "metadata": {},
   "outputs": [],
   "source": [
    "from bayesbeat.data import get_n_entries\n",
    "from bayesbeat.conversion import loss_from_decay_parameter\n",
    "import h5py\n",
    "import matplotlib.pyplot as plt\n",
    "from matplotlib.lines import Line2D\n",
    "from cycler import cycler\n",
    "import numpy as np\n",
    "import pathlib\n",
    "import pandas as pd\n",
    "\n",
    "from utils import get_frequency, model_labels, model_colours\n",
    "\n",
    "plt.style.use(\"paper.mplstyle\")"
   ]
  },
  {
   "cell_type": "code",
   "execution_count": null,
   "id": "8f6f33f9-4cf8-47dc-8600-ef3500e73f0d",
   "metadata": {},
   "outputs": [],
   "source": [
    "outdir = pathlib.Path(\"figures\") / \"loss\"\n",
    "outdir.mkdir(exist_ok=True, parents=True)\n",
    "\n",
    "file_format = \"pdf\""
   ]
  },
  {
   "cell_type": "markdown",
   "id": "824c7b0d-b1a6-4423-a089-06e1da8bb91b",
   "metadata": {},
   "source": [
    "Path to the data file"
   ]
  },
  {
   "cell_type": "code",
   "execution_count": null,
   "id": "96abcc4b-1163-45ed-ac99-67d8b205b3e2",
   "metadata": {},
   "outputs": [],
   "source": [
    "data_file = \"../data/PyTotalAnalysis_2024_02_23.mat\"\n",
    "n_ringdowns = get_n_entries(data_file)"
   ]
  },
  {
   "cell_type": "markdown",
   "id": "026e93b5-8199-4b21-aefa-b8561d5f7cc2",
   "metadata": {},
   "source": [
    "Path to the result files"
   ]
  },
  {
   "cell_type": "code",
   "execution_count": null,
   "id": "74c49f7a-2d35-4ff4-9277-ed3f65bd1bd5",
   "metadata": {},
   "outputs": [],
   "source": [
    "results_path = pathlib.Path(\"../results/bayesbeat_inference_results/real_data/\")\n",
    "paths = {\n",
    "    \"model_1_constant_noise\": results_path / \"model_1_constant_noise/\",\n",
    "    \"model_1\": results_path / \"model_1\",\n",
    "    \"model_3\": results_path / \"model_3\",\n",
    "}"
   ]
  },
  {
   "cell_type": "code",
   "execution_count": null,
   "id": "01ab7016-852c-485c-b7fb-ea669f0ba705",
   "metadata": {},
   "outputs": [],
   "source": [
    "frequencies = np.empty(n_ringdowns)\n",
    "for index in range(n_ringdowns):\n",
    "    frequencies[index] = get_frequency(data_file, index)"
   ]
  },
  {
   "cell_type": "markdown",
   "id": "271acca8",
   "metadata": {},
   "source": [
    "Load the lookup table that maps from frequencies to mode families"
   ]
  },
  {
   "cell_type": "code",
   "execution_count": null,
   "id": "b681fef3",
   "metadata": {},
   "outputs": [],
   "source": [
    "freq_lookup = pd.read_csv(\"labelled_frequencies.csv\")\n"
   ]
  },
  {
   "cell_type": "markdown",
   "id": "7ee825fd",
   "metadata": {},
   "source": [
    "Load the results produced using the original method"
   ]
  },
  {
   "cell_type": "code",
   "execution_count": null,
   "id": "9b6cd3f5",
   "metadata": {},
   "outputs": [],
   "source": [
    "original_results = pd.read_csv(\"../results/reference_results.txt\", sep=\"\\t\")"
   ]
  },
  {
   "cell_type": "markdown",
   "id": "aebe7090",
   "metadata": {},
   "source": [
    "Load the posterior distributions for $\\tau_1$ and $\\tau_2$"
   ]
  },
  {
   "cell_type": "code",
   "execution_count": null,
   "id": "49b1849d-2003-45bb-9e2b-22525feb72f2",
   "metadata": {},
   "outputs": [],
   "source": [
    "parameters = [\"tau_1\", \"tau_2\"]\n",
    "posteriors = {}\n",
    "for key, path in paths.items():\n",
    "    posteriors[key] = []\n",
    "    for index in range(n_ringdowns):\n",
    "        result_file = path / f\"result_ringdown_{index}.hdf5\"\n",
    "        if not result_file.exists():\n",
    "            print(result_file)\n",
    "            continue\n",
    "        with h5py.File(result_file, \"r\") as res_file:\n",
    "            post = res_file[\"posterior_samples\"][()]\n",
    "            posteriors[key].append(post)"
   ]
  },
  {
   "cell_type": "markdown",
   "id": "a9baac1a",
   "metadata": {},
   "source": [
    "## Figure 12"
   ]
  },
  {
   "cell_type": "code",
   "execution_count": null,
   "id": "16be9746",
   "metadata": {},
   "outputs": [],
   "source": [
    "indices = [0, 4]\n",
    "\n",
    "for index in indices:\n",
    "\n",
    "    figsize = plt.rcParams[\"figure.figsize\"].copy()\n",
    "    fig, axs = plt.subplots(1, 2, sharey=False)\n",
    "\n",
    "    keys = [\n",
    "        \"model_1_constant_noise\",\n",
    "        \"model_1\",\n",
    "        \"model_3\",\n",
    "    ]\n",
    "\n",
    "    for i, ax in enumerate(axs):\n",
    "        for key in keys:\n",
    "            tau = posteriors[key][index][f\"tau_{i+1}\"]\n",
    "            loss = loss_from_decay_parameter(tau, frequencies[index])\n",
    "            ax.hist(loss, bins=50, label=model_labels[key], histtype=\"step\", color=model_colours[key])\n",
    "\n",
    "        # Add original results\n",
    "        f, phi, phi_min, phi_max = original_results[[\"Frequency\", f\"Phi_{i+1}\", f\"Phi_{i+1}_Upper\", f\"Phi_{i+1}_Lower\"]].iloc[index]\n",
    "        ylim = ax.get_ylim()\n",
    "        if np.isfinite(phi_min) and np.isfinite(phi_max):\n",
    "            ax.fill_betweenx(ylim, phi_min, phi_max, color=\"lightgrey\")\n",
    "        ax.axvline(phi, color=\"grey\", ls=\"--\", label=\"Original\")\n",
    "\n",
    "        # Set axis labels and ticks\n",
    "        ax.set_yticklabels([])\n",
    "        ax.set_ylim(ylim)\n",
    "        ax.set_xlabel(f\"$1 / Q_{i+1}$\")\n",
    "\n",
    "\n",
    "    legend_handles = [Line2D([0], [0], color=\"grey\", ls=\"--\", label=\"Original\")] + [\n",
    "        Line2D([0], [0], color=model_colours[key], label=model_labels[key]) for key in keys\n",
    "    ]\n",
    "\n",
    "    fig.legend(handles=legend_handles, loc=\"center\", bbox_to_anchor=(0.5, -0.05), ncol=2)\n",
    "    plt.tight_layout()\n",
    "    fig.savefig(outdir / f\"loss_{index}.{file_format}\", bbox_inches=\"tight\")\n",
    "    plt.show()"
   ]
  },
  {
   "cell_type": "markdown",
   "id": "354739e6",
   "metadata": {},
   "source": [
    "## Figure 14"
   ]
  },
  {
   "cell_type": "code",
   "execution_count": null,
   "id": "6cb8a4e4",
   "metadata": {},
   "outputs": [],
   "source": [
    "# Colours from the orgiinal paper\n",
    "colours_orig = [\"#fdae61\", \"#d7191c\"]\n",
    "\n",
    "def get_colour(freq):\n",
    "    \"\"\"Determine the colour for a given frequency based on the mode family.\"\"\"\n",
    "    idx = (freq_lookup[\"Measured Frequency\"] - freq).abs().idxmin()\n",
    "    colour = colours_orig[freq_lookup['m'][idx]]\n",
    "    colour = f\"C{freq_lookup['m'][idx]}\"\n",
    "    return colour"
   ]
  },
  {
   "cell_type": "code",
   "execution_count": null,
   "id": "ce2cfa5b",
   "metadata": {},
   "outputs": [],
   "source": [
    "keys = [\n",
    "    \"model_1\",\n",
    "    \"model_3\"\n",
    "]\n",
    "phi_1 = {}\n",
    "phi_2 = {}\n",
    "for key in keys:\n",
    "    phi_1[key] = [loss_from_decay_parameter(post[\"tau_1\"], f) for post, f in zip(posteriors[key], frequencies)]\n",
    "    phi_2[key] = [loss_from_decay_parameter(post[\"tau_2\"], f) for post, f in zip(posteriors[key], frequencies)]\n",
    "\n",
    "\n",
    "figsize = plt.rcParams[\"figure.figsize\"].copy()\n",
    "figsize[0] = 1.8 * figsize[0]\n",
    "figsize[1] = 2 * figsize[1]\n",
    "\n",
    "n_analyses = 1 + len(keys)\n",
    "\n",
    "fig, axs = plt.subplots(3, n_analyses, sharey=\"row\", sharex=\"col\", figsize=figsize)\n",
    "\n",
    "flagged = np.zeros(len(frequencies), dtype=bool)\n",
    "missing = np.zeros(len(frequencies), dtype=bool)\n",
    "\n",
    "freq_factor = 1e-3\n",
    "ring_size = 50\n",
    "\n",
    "with plt.rc_context({\"axes.prop_cycle\": (cycler('color', colours_orig))}):\n",
    "\n",
    "    # Plot original results\n",
    "    # 2 plots, one for each Q\n",
    "    for j in range(2):\n",
    "        for idx, (freq, phi, phi_min, phi_max) in enumerate(original_results[[\"Frequency\", f\"Phi_{j+1}\", f\"Phi_{j+1}_Upper\", f\"Phi_{j+1}_Lower\"]].values):\n",
    "            colour = get_colour(freq)\n",
    "            freq = freq * freq_factor\n",
    "            if not np.isfinite(phi_min):\n",
    "                missing[idx] = True\n",
    "            else:\n",
    "                phi_err = np.array([(phi-phi_min, phi_max - phi)]).T\n",
    "                axs[j, 0].errorbar(freq, phi, yerr=phi_err, ls=\"\", c=colour, fmt=\".\", markeredgecolor=colour, markerfacecolor=\"none\")\n",
    "                if j == 1:\n",
    "                    axs[j+1, 0].errorbar(freq, phi, yerr=phi_err, ls=\"\", c=colour, fmt=\".\", markeredgecolor=colour, markerfacecolor=\"none\")\n",
    "                if phi > 1e-6:\n",
    "                    flagged[idx] = True\n",
    "                    axs[j, 0].scatter(freq, phi, color=colour, facecolor=\"none\", edgecolor=\"k\", s=ring_size)\n",
    "                    if j == 1:\n",
    "                        axs[j+1, 0].scatter(freq, phi, color=colour, facecolor=\"none\", edgecolor=\"k\", s=ring_size)\n",
    "\n",
    "    print(f\"Original method failed for {np.sum(missing)} ringdowns\")\n",
    "\n",
    "    for ax, key in zip(axs.T[1:], keys):\n",
    "        for j, phi_vals in enumerate([phi_1[key], phi_2[key]]):\n",
    "            for idx, (phi_array, freq) in enumerate(zip(phi_vals, frequencies)):\n",
    "                colour = get_colour(freq)\n",
    "                if missing[idx]:\n",
    "                    marker = \"^\"\n",
    "                    colour = \"darkorange\"\n",
    "                else:\n",
    "                    marker = \".\"\n",
    "                freq = freq / 1e3\n",
    "                phi_min, phi, phi_max = np.quantile(phi_array, [0.05, 0.5, 0.95])\n",
    "                phi_err = np.array([(phi-phi_min, phi_max-phi)]).T\n",
    "                ax[j].errorbar(freq, phi, yerr=phi_err, ls=\"\", fmt=marker, c=colour, markeredgecolor=colour, markerfacecolor=\"none\")\n",
    "                if j == 1:\n",
    "                    ax[j+1].errorbar(freq, phi, yerr=phi_err, ls=\"\", fmt=marker, c=colour, markeredgecolor=colour, markerfacecolor=\"none\")\n",
    "                if j == 1 and flagged[idx]:\n",
    "                    # colour = \"red\"\n",
    "                    ax[j].scatter(freq, phi, color=colour, facecolor=\"none\", edgecolor=\"k\", s=ring_size)\n",
    "                    if j == 1:\n",
    "                        ax[j+1].scatter(freq, phi, color=colour, facecolor=\"none\", edgecolor=\"k\", s=ring_size)\n",
    "        ax[0].set_title(model_labels[key])\n",
    "\n",
    "\n",
    "    axs[0, 0].set_title(\"Original\")\n",
    "\n",
    "    zoom_ylims = [0, 6e-7]\n",
    "\n",
    "    for i in range(n_analyses):\n",
    "        xlim = axs[1, i].get_xlim()\n",
    "        axs[1, i].fill_between(xlim, *zoom_ylims, color=\"lightgrey\", zorder=-1)\n",
    "        axs[1, i].set_xlim(xlim)\n",
    "\n",
    "\n",
    "    axs[0, 0].set_ylim(*zoom_ylims)\n",
    "    axs[1, 0].set_ylim(0, 5e-6)\n",
    "    axs[2, 0].set_ylim(*zoom_ylims)\n",
    "\n",
    "    axs[0, 0].set_ylabel(\"$1 / Q_1$\")\n",
    "    axs[1, 0].set_ylabel(\"$1 / Q_2$\")\n",
    "    axs[2, 0].set_ylabel(\"$1 / Q_2 $ (Zoom)\")\n",
    "\n",
    "    for i in range(n_analyses):\n",
    "        axs[-1, i].set_xlabel(r\"$f$ [kHz]\")\n",
    "\n",
    "\n",
    "    handles = [\n",
    "        Line2D([0], [0], color=\"C0\", ls=\"\", marker=\"o\", label=\"$p=0$ mode family\", markerfacecolor=\"none\", markeredgecolor=\"C0\"),\n",
    "        Line2D([0], [0], color=\"C1\", ls=\"\", marker=\"o\", label=\"$p=1$ mode family\", markerfacecolor=\"none\", markeredgecolor=\"C1\"),\n",
    "        Line2D([0], [0], color=\"k\", ls=\"\", marker=\"o\", label=\"Previous outliers\", markerfacecolor=\"none\", markeredgecolor=\"k\", markersize=10),\n",
    "        Line2D([0], [0], color=\"grey\", ls=\"\", marker=\"^\", label=\"Newly characterised\", markerfacecolor=\"none\", markeredgecolor=\"grey\"),\n",
    "    ]\n",
    "    fig.legend(\n",
    "        handles=handles,\n",
    "        bbox_to_anchor=(0.5, -0.05),\n",
    "        ncol=4,\n",
    "        loc=\"center\",\n",
    "    )\n",
    "\n",
    "    plt.tight_layout()\n",
    "\n",
    "    fig.savefig(\"figures/losses_real_data_all.pdf\")\n",
    "\n",
    "    plt.show()"
   ]
  },
  {
   "cell_type": "code",
   "execution_count": null,
   "id": "ef180e59-f5b3-4861-9d1f-633086a2519a",
   "metadata": {},
   "outputs": [],
   "source": []
  }
 ],
 "metadata": {
  "kernelspec": {
   "display_name": "bayes-beat",
   "language": "python",
   "name": "python3"
  },
  "language_info": {
   "codemirror_mode": {
    "name": "ipython",
    "version": 3
   },
   "file_extension": ".py",
   "mimetype": "text/x-python",
   "name": "python",
   "nbconvert_exporter": "python",
   "pygments_lexer": "ipython3",
   "version": "3.12.10"
  }
 },
 "nbformat": 4,
 "nbformat_minor": 5
}
