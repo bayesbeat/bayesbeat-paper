{
 "cells": [
  {
   "cell_type": "markdown",
   "metadata": {},
   "source": [
    "Notebook to the plot reparameterization described in Appendix A"
   ]
  },
  {
   "cell_type": "code",
   "execution_count": null,
   "metadata": {},
   "outputs": [],
   "source": [
    "import matplotlib.pyplot as plt\n",
    "from bayesbeat.config import read_config\n",
    "from nessai.reparameterisations import default_reparameterisations\n",
    "from nessai.livepoint import empty_structured_array\n",
    "import h5py\n",
    "import pathlib\n",
    "\n",
    "plt.style.use(\"paper.mplstyle\")"
   ]
  },
  {
   "cell_type": "code",
   "execution_count": null,
   "metadata": {},
   "outputs": [],
   "source": [
    "outdir = pathlib.Path(\"figures\") / \"reparameterisations\"\n",
    "outdir.mkdir(parents=True, exist_ok=True)"
   ]
  },
  {
   "cell_type": "code",
   "execution_count": null,
   "metadata": {},
   "outputs": [],
   "source": [
    "result_file = pathlib.Path(\"../results/bayesbeat_inference_results/simulated_data/model_3/result_ringdown_1.hdf5\")\n",
    "\n",
    "with h5py.File(result_file, 'r') as f:\n",
    "    posterior = f[\"posterior_samples\"][:]\n"
   ]
  },
  {
   "cell_type": "code",
   "execution_count": null,
   "metadata": {},
   "outputs": [],
   "source": [
    "config_file = pathlib.Path(\"../analysis/simulated_data\") / \"model_3.ini\"\n",
    "config = read_config(config_file)"
   ]
  },
  {
   "cell_type": "markdown",
   "metadata": {},
   "source": [
    "## Apply the reparameterization\n",
    "\n",
    "This uses code from `nessai` to construct the class and apply the reparameterization.\n",
    "\n",
    "In practice, this is done automatically within `nessai`."
   ]
  },
  {
   "cell_type": "code",
   "execution_count": null,
   "metadata": {},
   "outputs": [],
   "source": [
    "prior_bounds = config[\"Model\"][\"prior_bounds\"]"
   ]
  },
  {
   "cell_type": "code",
   "execution_count": null,
   "metadata": {},
   "outputs": [],
   "source": [
    "reparam = default_reparameterisations[\"log_amplitude\"].class_fn(\n",
    "    parameters=[\"log10_a_1\", \"log10_a_scale\"],\n",
    "    prior_bounds={p: prior_bounds[p] for p in [\"log10_a_1\", \"log10_a_scale\"]},\n",
    ")"
   ]
  },
  {
   "cell_type": "code",
   "execution_count": null,
   "metadata": {},
   "outputs": [],
   "source": [
    "x = posterior.copy()\n",
    "x_prime = empty_structured_array(len(x), reparam.prime_parameters)\n",
    "log_j = 0\n",
    "reparam.update(x)\n",
    "x, x_prime, log_j = reparam.reparameterise(x, x_prime, log_j)"
   ]
  },
  {
   "cell_type": "markdown",
   "metadata": {},
   "source": [
    "## Figure A1"
   ]
  },
  {
   "cell_type": "code",
   "execution_count": null,
   "metadata": {},
   "outputs": [],
   "source": [
    "figsize = plt.rcParams[\"figure.figsize\"].copy()\n",
    "figsize[0] *= 1.8\n",
    "fig, axs = plt.subplots(1, 2, figsize=figsize)\n",
    "\n",
    "a_1 = 10 ** posterior[\"log10_a_1\"]\n",
    "a_scale = 10 ** posterior[\"log10_a_scale\"]\n",
    "colour = posterior[\"a_ratio\"]\n",
    "\n",
    "axs[0].scatter(a_1, a_scale, s=1, c=colour, rasterized=True)\n",
    "axs[0].set_xlabel(r\"$A_1$\")\n",
    "axs[0].set_ylabel(r\"$A_\\text{scale}$\")\n",
    "\n",
    "scatter = axs[1].scatter(x_prime[\"alpha\"], x_prime[\"beta\"], c=colour, s=1, rasterized=True)\n",
    "axs[1].set_xlabel(r\"$\\alpha$\")\n",
    "axs[1].set_ylabel(r\"$\\beta$\")\n",
    "\n",
    "# plt.tight_layout()\n",
    "\n",
    "plt.subplots_adjust(wspace=0.3)\n",
    "\n",
    "fig.colorbar(scatter, ax=axs.ravel().tolist(), label=r\"$\\rho$\")\n",
    "\n",
    "fig.savefig(outdir / \"reparameterization.pdf\")\n",
    "plt.show()"
   ]
  },
  {
   "cell_type": "code",
   "execution_count": null,
   "metadata": {},
   "outputs": [],
   "source": []
  }
 ],
 "metadata": {
  "kernelspec": {
   "display_name": "bayes-beat",
   "language": "python",
   "name": "python3"
  },
  "language_info": {
   "codemirror_mode": {
    "name": "ipython",
    "version": 3
   },
   "file_extension": ".py",
   "mimetype": "text/x-python",
   "name": "python",
   "nbconvert_exporter": "python",
   "pygments_lexer": "ipython3",
   "version": "3.12.4"
  }
 },
 "nbformat": 4,
 "nbformat_minor": 2
}
