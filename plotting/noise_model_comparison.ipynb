{
 "cells": [
  {
   "cell_type": "markdown",
   "id": "c8fee792-ac84-4827-add5-4b38c96ae352",
   "metadata": {},
   "source": [
    "# Validating the noise model\n",
    "\n",
    "Code for producing figures in the 'Validating the noise model' section of the paper."
   ]
  },
  {
   "cell_type": "code",
   "execution_count": null,
   "id": "38973648-c378-448d-b482-9e7cbfd913b0",
   "metadata": {},
   "outputs": [],
   "source": [
    "from bayesbeat.result import get_fit\n",
    "from bayesbeat.data import get_data, get_n_entries\n",
    "import h5py\n",
    "import matplotlib.pyplot as plt\n",
    "import numpy as np\n",
    "import pathlib\n",
    "\n",
    "from utils import compute_residuals, get_duration, get_bayes_factor_markers\n",
    "\n",
    "plt.style.use(\"paper.mplstyle\")"
   ]
  },
  {
   "cell_type": "code",
   "execution_count": null,
   "id": "b05b112e-d1bf-4a95-ac58-7d26c0422c18",
   "metadata": {},
   "outputs": [],
   "source": [
    "outdir = pathlib.Path(\"figures\")\n",
    "outdir.mkdir(exist_ok=True)\n",
    "\n",
    "file_format = \"pdf\""
   ]
  },
  {
   "cell_type": "markdown",
   "id": "acfdd881-fa3d-414f-acaa-3e497862c0c0",
   "metadata": {},
   "source": [
    "Path to the data file"
   ]
  },
  {
   "cell_type": "code",
   "execution_count": null,
   "id": "4f65123b-aa34-45bc-b494-f08ec09e07d1",
   "metadata": {},
   "outputs": [],
   "source": [
    "data_file = \"../data/PyTotalAnalysis_2024_02_23.mat\"\n",
    "n_ringdowns = get_n_entries(data_file)"
   ]
  },
  {
   "cell_type": "markdown",
   "id": "e772dfce-a6cd-408b-91de-351e8bd2ee90",
   "metadata": {},
   "source": [
    "Path to the result files"
   ]
  },
  {
   "cell_type": "code",
   "execution_count": null,
   "id": "a8a46c02-759c-4ea2-a4b8-0d0306129b6c",
   "metadata": {},
   "outputs": [],
   "source": [
    "paths = {\n",
    "    \"simple_model_constant_noise\": pathlib.Path(\"../analysis/gens_data/rundir/simple_model_constant_noise_fix/\"),\n",
    "    \"simple_model_amp_noise\": pathlib.Path(\"../analysis/gens_data/rundir/simple_model_both_noise_sources_fix/\"),\n",
    "}"
   ]
  },
  {
   "cell_type": "code",
   "execution_count": null,
   "id": "7d0a7fcd-240e-4adc-92de-0f7a0acf355c",
   "metadata": {},
   "outputs": [],
   "source": [
    "labels = {\n",
    "    \"simple_model_constant_noise\": r\"$\\xi_2=0$\",\n",
    "    \"simple_model_amp_noise\": r\"$\\xi_2 \\in [0, 1]$\",\n",
    "}"
   ]
  },
  {
   "cell_type": "markdown",
   "id": "7d8e26a8-430a-4018-b800-9c3e2210c846",
   "metadata": {},
   "source": [
    "## Fit comparison\n",
    "\n",
    "Comparing the fits between the constant noise model and complete model"
   ]
  },
  {
   "cell_type": "code",
   "execution_count": null,
   "id": "37e1e91a-51fb-4d18-9ab8-2a43f71da702",
   "metadata": {},
   "outputs": [],
   "source": [
    "index = 0\n",
    "x_data, y_data, frequency, _ = get_data(data_file, index=index)"
   ]
  },
  {
   "cell_type": "code",
   "execution_count": null,
   "id": "745bc68b-5af7-4944-8510-839ac0cbdfd8",
   "metadata": {},
   "outputs": [],
   "source": [
    "results = {}\n",
    "for key, path in paths.items():\n",
    "    d = dict()\n",
    "    result_file = path / \"analysis\" / f\"index_{index}\" / \"result.hdf5\"\n",
    "    with h5py.File(result_file, \"r\") as res_file:\n",
    "        posterior_samples = res_file[\"posterior_samples\"][()]\n",
    "        d[\"log_z\"] = res_file[\"log_evidence\"][()]\n",
    "    # Get sample with max. log-likelihood\n",
    "    max_logl_idx = np.argmax(posterior_samples[\"logL\"])\n",
    "    # Get noise sigmas\n",
    "\n",
    "    d[\"sigma_constant\"] = posterior_samples[\"sigma_constant_noise\"][max_logl_idx]\n",
    "    d[\"sigma_amp\"] = (\n",
    "        posterior_samples[\"sigma_amp_noise\"][max_logl_idx]\n",
    "        if \"sigma_amp_noise\" in posterior_samples.dtype.names else 0\n",
    "    )\n",
    "    d[\"y_fit\"] = get_fit(\n",
    "        config_file=next(path.glob(\"*.ini\")),\n",
    "        result_file=result_file,\n",
    "        datafile=data_file,\n",
    "        index=index,\n",
    "        method=\"max\",\n",
    "        # device=\"cpu\",\n",
    "    )\n",
    "    results[key] = d"
   ]
  },
  {
   "cell_type": "code",
   "execution_count": null,
   "id": "0d56a637-3e8a-450a-bc53-f884f4fc9711",
   "metadata": {},
   "outputs": [],
   "source": [
    "for i, (key, res) in enumerate(results.items()):\n",
    "\n",
    "    fig, axs = plt.subplot_mosaic(\n",
    "        [[\"fit\", \"fit\", \"empty\"], [\"res\", \"res\", \"dist\"]],\n",
    "    )\n",
    "\n",
    "    axs[\"fit\"].scatter(x_data, y_data, color=\"k\", s=1)\n",
    "\n",
    "    axs[\"fit\"].plot(x_data, res[\"y_fit\"], c=f\"C{i}\")\n",
    "\n",
    "    residuals = compute_residuals(\n",
    "        y_data,\n",
    "        res[\"y_fit\"],\n",
    "        res[\"sigma_constant\"],\n",
    "        res[\"sigma_amp\"],\n",
    "    )\n",
    "    \n",
    "    # axs[\"res\"].scatter(x_data, residuals, s=1, c=f\"C{i}\")\n",
    "    axs[\"res\"].scatter(x_data, residuals, s=1, c=f\"C{i}\", lw=0.0)\n",
    "\n",
    "    axs[\"dist\"].hist(residuals, 100, histtype=\"step\", orientation=\"horizontal\", label=labels.get(key), color=f\"C{i}\")\n",
    "\n",
    "    axs[\"empty\"].axis(\"off\")\n",
    "    # axs[\"dist\"].legend()\n",
    "    axs[\"fit\"].grid()\n",
    "    axs[\"res\"].set_xlabel(\"Time [s]\")\n",
    "    axs[\"fit\"].set_ylabel(\"Amplitude\")\n",
    "    axs[\"res\"].grid()\n",
    "    axs[\"res\"].set_ylabel(\"Residuals\")\n",
    "    axs[\"res\"].sharex(axs[\"fit\"])\n",
    "    axs[\"res\"].sharey(axs[\"dist\"])\n",
    "    axs[\"fit\"].tick_params(labelbottom=False)\n",
    "    axs[\"dist\"].tick_params(labelleft=False)\n",
    "    axs[\"dist\"].set_xlabel(\"Counts\")\n",
    "    axs[\"dist\"].grid()\n",
    "    axs[\"res\"].set_xscale(\"log\")\n",
    "\n",
    "    axs[\"empty\"].text(0., 0.66, labels[key], fontsize=8)\n",
    "    axs[\"empty\"].text(0., 0.33, r\"$\\log_{10} Z = \" + f\"{res['log_z'] / np.log(10):.1f}\" + r\"$\", fontsize=8)\n",
    "\n",
    "    plt.tight_layout()\n",
    "    fig.savefig(outdir / pathlib.Path(f\"{key}_fit.{file_format}\"))\n"
   ]
  },
  {
   "cell_type": "markdown",
   "id": "fb86ced3-2ccf-4074-908a-546b07e64491",
   "metadata": {},
   "source": [
    "## Bayes Factors"
   ]
  },
  {
   "cell_type": "code",
   "execution_count": null,
   "id": "b861d6c3-907e-4fe9-952d-c8ebc4508182",
   "metadata": {},
   "outputs": [],
   "source": [
    "log_z = {}\n",
    "for key, path in paths.items():\n",
    "    log_z[key] = np.empty(n_ringdowns)\n",
    "    for index in range(n_ringdowns):\n",
    "        result_file=path / \"analysis\" / f\"index_{index}\" / \"result.hdf5\"\n",
    "        try:\n",
    "            with h5py.File(result_file, \"r\") as res_file:\n",
    "                log_z[key][index] = res_file[\"log_evidence\"][()]\n",
    "        except OSError:\n",
    "            log_z[key][index] = np.nan"
   ]
  },
  {
   "cell_type": "code",
   "execution_count": null,
   "id": "a1d641e1-47e6-4e48-b99c-607f7ed69185",
   "metadata": {},
   "outputs": [],
   "source": [
    "parameters = {}\n",
    "for key, path in paths.items():\n",
    "    d = dict()\n",
    "    for index in range(n_ringdowns):\n",
    "        result_file = path / \"analysis\" / f\"index_{index}\" / \"result.hdf5\"\n",
    "        try:\n",
    "            with h5py.File(result_file, \"r\") as res_file:\n",
    "                posterior_samples = res_file[\"posterior_samples\"][()]\n",
    "            max_logl_idx = np.argmax(posterior_samples[\"logL\"])\n",
    "            for p in posterior_samples.dtype.names:\n",
    "                if p not in d:\n",
    "                    d[p] = np.empty(n_ringdowns)\n",
    "                d[p][index] = posterior_samples[p][max_logl_idx]\n",
    "        except FileNotFoundError:\n",
    "            pass\n",
    "    parameters[key] = d"
   ]
  },
  {
   "cell_type": "code",
   "execution_count": null,
   "id": "ec3cbf69-9e80-4c1b-8cbd-c287c2e73e7e",
   "metadata": {},
   "outputs": [],
   "source": [
    "durations = np.empty(n_ringdowns)\n",
    "for index in range(n_ringdowns):\n",
    "    durations[index] = get_duration(data_file, index)"
   ]
  },
  {
   "cell_type": "code",
   "execution_count": null,
   "id": "8a15d581-102f-4728-a7fc-36f363c435b3",
   "metadata": {},
   "outputs": [],
   "source": [
    "fig, axs = plt.subplots()\n",
    "\n",
    "indices = np.arange(n_ringdowns)\n",
    "log10_bf = (log_z[\"simple_model_amp_noise\"] - log_z[\"simple_model_constant_noise\"]) / np.log(10)\n",
    "\n",
    "bf_scatter = axs.scatter(indices, log10_bf, c=durations)\n",
    "plt.colorbar(bf_scatter, label=\"Data duration [s]\", ax=axs)\n",
    "axs.set_xlabel(r\"Ringdown #\")\n",
    "axs.set_ylabel(r\"$\\log_{10} \\cal{B}$\")\n",
    "axs.set_yscale(\"symlog\")\n",
    "axs.grid()\n",
    "axs.set_ylim(0)\n",
    "\n",
    "fig.savefig(outdir / f\"noise_comparison_bf.{file_format}\")"
   ]
  },
  {
   "cell_type": "code",
   "execution_count": null,
   "id": "a6a6275d-ca79-4981-abf8-e294a432a471",
   "metadata": {},
   "outputs": [],
   "source": [
    "len(log10_bf)"
   ]
  },
  {
   "cell_type": "code",
   "execution_count": null,
   "id": "476f1e0b-d0fb-43cd-b672-2501dfb54729",
   "metadata": {},
   "outputs": [],
   "source": [
    "fig, axs = plt.subplots()\n",
    "\n",
    "model_2 = \"simple_model_constant_noise\"\n",
    "model_1 = \"simple_model_amp_noise\"\n",
    "x_values = (parameters[model_1][\"a_1\"]) #* parameters[\"simple_model_amp_noise\"][\"a_1\"])\n",
    "y_values = parameters[model_1][\"a_ratio\"] * parameters[model_1][\"a_1\"]\n",
    "log10_bf = (log_z[model_1] - log_z[model_2]) / np.log(10)\n",
    "print(f\"Mean log10 BF: {np.mean(log10_bf)}\")\n",
    "print(f\"Min. log10 BF: {np.min(log10_bf)}\")\n",
    "\n",
    "cvar = log10_bf#signs * np.log10(np.abs(log10_bf))\n",
    "cvar_max = np.nanmax(log10_bf)#np.round(np.nanmax(np.abs(cvar)))\n",
    "threshold = 0\n",
    "threshold_colour = \"k\"\n",
    "markers = get_bayes_factor_markers(cvar, threshold)\n",
    "\n",
    "for (i, v), marker in zip(enumerate(cvar), markers):\n",
    "    simple_scatter = axs.scatter(\n",
    "        x_values[i],\n",
    "        y_values[i],\n",
    "        s=20,\n",
    "        c=v,\n",
    "        cmap=\"RdYlBu\",\n",
    "        vmin=-cvar_max,\n",
    "        vmax=cvar_max,\n",
    "        marker=marker,\n",
    "        edgecolor=\"k\",\n",
    "        linewidths=0.5,\n",
    "    )\n",
    "\n",
    "# add_log10_bayes_factor_colorbar(simple_scatter, ax=axs)\n",
    "cbar = plt.colorbar(simple_scatter, ax=axs, label=r\"$\\log_{10} \\cal{B}$\", extend=\"both\")\n",
    "cbar.ax.axhline(threshold, c=threshold_colour)\n",
    "cbar.ax.axhline(-threshold, c=threshold_colour)\n",
    "\n",
    "axs.set_xscale(\"log\")\n",
    "axs.set_yscale(\"log\")\n",
    "xlim = axs.get_xlim()\n",
    "ylim = axs.get_ylim()\n",
    "\n",
    "axs.fill_between([1e-6, 1e1], [1e-6, 1e1], [1e1, 1e1], color=\"lightgrey\", zorder=0)\n",
    "\n",
    "# axs.legend(handles=legend_handles, frameon=True, ncol=3)\n",
    "axs.set_xlabel(r\"$a_1$\")\n",
    "axs.set_ylabel(r\"$a_2$\")\n",
    "axs.grid()\n",
    "axs.set_xlim(xlim)\n",
    "axs.set_ylim(ylim)\n",
    "plt.tight_layout()\n",
    "fig.savefig(outdir / f\"noise_comparison_bf.{file_format}\")"
   ]
  },
  {
   "cell_type": "code",
   "execution_count": null,
   "id": "9b89e084-3e40-4c5c-a4b9-0dfc81f5ea02",
   "metadata": {},
   "outputs": [],
   "source": [
    "loss_1 = 1 / (parameters['simple_model_amp_noise']['tau_1'] * frequency * np.pi)"
   ]
  },
  {
   "cell_type": "code",
   "execution_count": null,
   "id": "f60c6072-abda-4b71-86e9-7a263e07422d",
   "metadata": {},
   "outputs": [],
   "source": []
  }
 ],
 "metadata": {
  "kernelspec": {
   "display_name": "BayesBeat",
   "language": "python",
   "name": "bayes-beat"
  },
  "language_info": {
   "codemirror_mode": {
    "name": "ipython",
    "version": 3
   },
   "file_extension": ".py",
   "mimetype": "text/x-python",
   "name": "python",
   "nbconvert_exporter": "python",
   "pygments_lexer": "ipython3",
   "version": "3.12.4"
  }
 },
 "nbformat": 4,
 "nbformat_minor": 5
}
